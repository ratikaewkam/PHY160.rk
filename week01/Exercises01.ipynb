{
 "cells": [
  {
   "cell_type": "markdown",
   "id": "36c60e99-5996-4e1c-a0d8-0cef2054ae52",
   "metadata": {},
   "source": [
    "# Assignment 1 - Python Basics "
   ]
  },
  {
   "cell_type": "markdown",
   "id": "63d90a5c-c290-41ac-8df4-8153e848f97d",
   "metadata": {},
   "source": [
    "## 68090502210 Rati Kaewkam"
   ]
  },
  {
   "cell_type": "markdown",
   "id": "6a05c71d-cde4-494c-a2ed-3541e096cbd8",
   "metadata": {},
   "source": [
    "### Problem 01"
   ]
  },
  {
   "cell_type": "code",
   "execution_count": 1,
   "id": "56b115a1-5d0e-4088-80de-44f6bb7cae3f",
   "metadata": {},
   "outputs": [
    {
     "name": "stdin",
     "output_type": "stream",
     "text": [
      "h:  1\n",
      "m:  1\n",
      "s:  1\n"
     ]
    },
    {
     "name": "stdout",
     "output_type": "stream",
     "text": [
      "1h 1mins 1s = 3661s\n"
     ]
    }
   ],
   "source": [
    "# Calculate time in second (s)\n",
    "# Note that 1h = 60mins and 1min = 60s, that means 1h = 3600s\n",
    "\n",
    "h = int(input('h: '))\n",
    "m = int(input('m: '))\n",
    "s = int(input('s: '))\n",
    "\n",
    "total = (h*3600) + (m*60) + s\n",
    "\n",
    "print(f'{h}h {m}mins {s}s = {total}s')"
   ]
  },
  {
   "cell_type": "markdown",
   "id": "7ac19b18-a6cb-461a-969a-a4de4fddc914",
   "metadata": {},
   "source": [
    "### Problem 02"
   ]
  },
  {
   "cell_type": "code",
   "execution_count": 1,
   "id": "29e6c256-868d-4550-811c-a1db92124a62",
   "metadata": {},
   "outputs": [
    {
     "name": "stdin",
     "output_type": "stream",
     "text": [
      "x:  1\n"
     ]
    },
    {
     "name": "stdout",
     "output_type": "stream",
     "text": [
      "y= 0.974025974025974\n"
     ]
    }
   ],
   "source": [
    "# Find this value (y) from this formula\n",
    "# y =  2 - x + (3/7)x^2 - (5/11)x^3 + log10(x)\n",
    "\n",
    "import math\n",
    "\n",
    "x = float(input('x: '))\n",
    "y = 2  - x + ((3/7)*(x**2)) - ((5/11)*(x**3)) + math.log(x, 10)\n",
    "\n",
    "print(f'y= {y}')"
   ]
  },
  {
   "cell_type": "markdown",
   "id": "67d5442f-b268-4f32-b372-b1a7eb9bd612",
   "metadata": {},
   "source": [
    "### Problem 03"
   ]
  },
  {
   "cell_type": "code",
   "execution_count": 3,
   "id": "15011cc8-8460-46b8-8655-3156b85b2182",
   "metadata": {},
   "outputs": [
    {
     "name": "stdin",
     "output_type": "stream",
     "text": [
      "a:  7\n"
     ]
    },
    {
     "name": "stdout",
     "output_type": "stream",
     "text": [
      "x= 2.64576704419029\n"
     ]
    }
   ],
   "source": [
    "# Calculate and solve x for 4 times\n",
    "\n",
    "a = float(input('a: '))\n",
    "x = 1 # init x\n",
    "\n",
    "x = (x + (a/x)) / 2\n",
    "x = (x + (a/x)) / 2\n",
    "x = (x + (a/x)) / 2\n",
    "x = (x + (a/x)) / 2\n",
    "\n",
    "print(f'x= {x}')"
   ]
  },
  {
   "cell_type": "code",
   "execution_count": 4,
   "id": "abb5b6c4-7a10-428f-b5f8-1cddea57d9b4",
   "metadata": {},
   "outputs": [
    {
     "name": "stdin",
     "output_type": "stream",
     "text": [
      "a:  7\n"
     ]
    },
    {
     "name": "stdout",
     "output_type": "stream",
     "text": [
      "x= 2.64576704419029\n"
     ]
    }
   ],
   "source": [
    "# The other way to solve this problem -> we use \"for loop\"\n",
    "\n",
    "a = float(input('a: '))\n",
    "x = 1 # init x\n",
    "\n",
    "for i in range(4):\n",
    "    x = (x + (a/x)) / 2\n",
    "\n",
    "print(f'x= {x}')"
   ]
  },
  {
   "cell_type": "markdown",
   "id": "c7cae740-83f4-4b09-bbab-2f7fa6915569",
   "metadata": {},
   "source": [
    "### Problem 04"
   ]
  },
  {
   "cell_type": "code",
   "execution_count": 5,
   "id": "01cbe175-d9ed-4b49-9152-4bbfbf3e214b",
   "metadata": {},
   "outputs": [
    {
     "name": "stdin",
     "output_type": "stream",
     "text": [
      "u:  1 2 3\n",
      "v:  4 5 6\n"
     ]
    },
    {
     "name": "stdout",
     "output_type": "stream",
     "text": [
      "Dot product of u = (1, 2, 3) and v = (4, 5, 6) = 32.0\n"
     ]
    }
   ],
   "source": [
    "# Dot product of two vectors\n",
    "# Note that if we have u = (u1, u2, u3, ...) and v = (v1, v2, v3, ...). We can find the dot product of two vectors in any dimensions from\n",
    "# u dot v = u1v1 + u2v2 + u3v3 + ... \n",
    "\n",
    "u1, u2, u3 = input('u: ').split()\n",
    "v1, v2, v3 = input('v: ').split()\n",
    "\n",
    "dot_products  = (float(u1)*float(v1)) + (float(u2)*float(v2)) + (float(u3)*float(v3))\n",
    "\n",
    "print(f'Dot product of u = ({u1}, {u2}, {u3}) and v = ({v1}, {v2}, {v3}) = {dot_products}')"
   ]
  },
  {
   "cell_type": "code",
   "execution_count": 6,
   "id": "4a86621e-7d1d-4e9d-9023-19b7e3764d21",
   "metadata": {},
   "outputs": [
    {
     "name": "stdin",
     "output_type": "stream",
     "text": [
      "Enter u1 and v1:  1 4\n",
      "Enter u2 and v2:  2 5\n",
      "Enter u3 and v3:  3 6\n"
     ]
    },
    {
     "name": "stdout",
     "output_type": "stream",
     "text": [
      "Dot product of u = (1.0, 2.0, 3.0) and v = (4.0, 5.0, 6.0) = 32.0\n"
     ]
    }
   ],
   "source": [
    "#The other way to solve this problem -> we use \"for loop\" and \"array\"\n",
    "u = []\n",
    "v = []\n",
    "dot_products = 0\n",
    "dim = 3 # We can calculate the dot product in any dimensions\n",
    "\n",
    "for i in range(dim):\n",
    "    u_com, v_com = input(f'Enter u{i+1} and v{i+1}: ').split()\n",
    "    u.append(float(u_com))\n",
    "    v.append(float(v_com))\n",
    "    dot_products = dot_products + (u[i]*v[i])\n",
    "\n",
    "print(f'Dot product of u = ({u[0]}, {u[1]}, {u[2]}) and v = ({v[0]}, {v[1]}, {v[2]}) = {dot_products}')"
   ]
  },
  {
   "cell_type": "markdown",
   "id": "63927069-f8ef-4a0a-8817-59efa69937cd",
   "metadata": {},
   "source": [
    "### Problem 05"
   ]
  },
  {
   "cell_type": "code",
   "execution_count": 7,
   "id": "feab30df-0194-493f-a0df-411a206ba812",
   "metadata": {},
   "outputs": [
    {
     "name": "stdin",
     "output_type": "stream",
     "text": [
      "Enter x1, y1, x2, y2:  3 0 0 4\n"
     ]
    },
    {
     "name": "stdout",
     "output_type": "stream",
     "text": [
      "Distance between (3, 0) and (0, 4) = 5.0\n"
     ]
    }
   ],
   "source": [
    "# Calculate distance between two point in Cartesian coordinates system\n",
    "# d = sqrt(delta(x)^2 + delta(y)^2)\n",
    "\n",
    "x1, y1, x2, y2 = input('Enter x1, y1, x2, y2: ').split()\n",
    "\n",
    "delta_x = float(x2) - float(x1)\n",
    "delta_y = float(y2) - float(y1)\n",
    "d = math.sqrt(math.pow(delta_x, 2) + math.pow(delta_y, 2))\n",
    "\n",
    "print(f'Distance between ({x1}, {y1}) and ({x2}, {y2}) = {d}')"
   ]
  },
  {
   "cell_type": "markdown",
   "id": "bd59acf4-a692-4b3f-99c6-c9a34ebd0485",
   "metadata": {},
   "source": [
    "### Triangle I"
   ]
  },
  {
   "cell_type": "code",
   "execution_count": 8,
   "id": "3d5161e3-2564-4db4-947a-aa865c0979d1",
   "metadata": {},
   "outputs": [
    {
     "name": "stdin",
     "output_type": "stream",
     "text": [
      "a:  3\n",
      "b:  4\n",
      "theta:  90\n"
     ]
    },
    {
     "name": "stdout",
     "output_type": "stream",
     "text": [
      "area = 6.0 (sq cm)\n"
     ]
    }
   ],
   "source": [
    "# Calculate area of triangle from area = (1/2)*a*b*sin(theta)\n",
    "\n",
    "a = float(input('a: '))\n",
    "b = float(input('b: '))\n",
    "theta = float(input('theta: '))\n",
    "\n",
    "deg = math.radians(theta)\n",
    "area = (1/2) * a * b * math.sin(deg)\n",
    "\n",
    "print(f'area = {area} (sq cm)')"
   ]
  },
  {
   "cell_type": "markdown",
   "id": "64a2930d-baa8-41b7-bfd4-0f9ba93cf0fd",
   "metadata": {},
   "source": [
    "### Triangle II"
   ]
  },
  {
   "cell_type": "code",
   "execution_count": 9,
   "id": "aa8c201b-5746-4864-ba99-eff2223027af",
   "metadata": {},
   "outputs": [
    {
     "name": "stdin",
     "output_type": "stream",
     "text": [
      "a:  3\n",
      "b:  4\n",
      "theta:  90\n"
     ]
    },
    {
     "name": "stdout",
     "output_type": "stream",
     "text": [
      "c = 5.0 cm.\n"
     ]
    }
   ],
   "source": [
    "# Calculate this formula c^2 = a^2 + b^2 - 2ab*cos(theta) -> Law of Cosines\n",
    "\n",
    "a = float(input('a: '))\n",
    "b = float(input('b: '))\n",
    "theta = float(input('theta: '))\n",
    "\n",
    "deg = math.radians(theta)\n",
    "c = math.sqrt(math.pow(a, 2) + math.pow(b, 2) - 2*a*b*math.cos(deg))\n",
    "\n",
    "print(f'c = {c} cm.')"
   ]
  },
  {
   "cell_type": "markdown",
   "id": "f65473dd-edb7-4b4d-9a6c-107683c38275",
   "metadata": {},
   "source": [
    "### Temperature Converter"
   ]
  },
  {
   "cell_type": "code",
   "execution_count": 10,
   "id": "7637a5de-d868-42b5-a024-0807d9e3721c",
   "metadata": {},
   "outputs": [
    {
     "name": "stdin",
     "output_type": "stream",
     "text": [
      "Celsius:  39.85\n"
     ]
    },
    {
     "name": "stdout",
     "output_type": "stream",
     "text": [
      "103.73 313.0\n"
     ]
    }
   ],
   "source": [
    "# Note that from C to F : F = (9/5)C + 32\n",
    "# From C to K : K = C + 273.15\n",
    "\n",
    "c = float(input('Celsius: '))\n",
    "\n",
    "f = (9/5)*c + 32\n",
    "k = c + 273.15\n",
    "\n",
    "print(f, k)"
   ]
  }
 ],
 "metadata": {
  "kernelspec": {
   "display_name": "Python 3 (ipykernel)",
   "language": "python",
   "name": "python3"
  },
  "language_info": {
   "codemirror_mode": {
    "name": "ipython",
    "version": 3
   },
   "file_extension": ".py",
   "mimetype": "text/x-python",
   "name": "python",
   "nbconvert_exporter": "python",
   "pygments_lexer": "ipython3",
   "version": "3.10.14"
  }
 },
 "nbformat": 4,
 "nbformat_minor": 5
}
