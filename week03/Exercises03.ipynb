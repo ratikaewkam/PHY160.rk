{
 "cells": [
  {
   "cell_type": "code",
   "execution_count": 1,
   "id": "44cbecf0-4602-4924-908f-f85a07186c5a",
   "metadata": {},
   "outputs": [],
   "source": [
    "from math import *"
   ]
  },
  {
   "cell_type": "markdown",
   "id": "70ab75ef-2868-4724-a09e-f1d7f3b707cc",
   "metadata": {},
   "source": [
    "### Problem 01"
   ]
  },
  {
   "cell_type": "code",
   "execution_count": null,
   "id": "644a00f0-d77e-4d69-8073-0ccf1b5c6fca",
   "metadata": {},
   "outputs": [],
   "source": []
  },
  {
   "cell_type": "markdown",
   "id": "768af42c-aed4-4c47-a251-29842757560c",
   "metadata": {},
   "source": [
    "### Problem 02"
   ]
  },
  {
   "cell_type": "code",
   "execution_count": null,
   "id": "0696519f-cde5-42a5-b019-1e5d08c8e643",
   "metadata": {},
   "outputs": [],
   "source": []
  },
  {
   "cell_type": "markdown",
   "id": "241c3c35-df16-44d5-b3fb-843d0c0f4bc9",
   "metadata": {},
   "source": [
    "### Problem 03"
   ]
  },
  {
   "cell_type": "code",
   "execution_count": null,
   "id": "0288e956-d0e3-4480-bd71-a0619bb46bd1",
   "metadata": {},
   "outputs": [],
   "source": []
  },
  {
   "cell_type": "markdown",
   "id": "ba69fef4-4609-4222-8886-3998ef314192",
   "metadata": {},
   "source": [
    "### Problem 04"
   ]
  },
  {
   "cell_type": "code",
   "execution_count": null,
   "id": "01e82b8c-2096-4512-be8c-c014260cf26e",
   "metadata": {},
   "outputs": [],
   "source": []
  },
  {
   "cell_type": "markdown",
   "id": "5c2094ff-4230-466f-96b6-b4e917f5cf53",
   "metadata": {},
   "source": [
    "### Problem 05"
   ]
  },
  {
   "cell_type": "code",
   "execution_count": null,
   "id": "7a9f4cb9-14ab-4c06-93d6-256a132f293e",
   "metadata": {},
   "outputs": [],
   "source": []
  },
  {
   "cell_type": "markdown",
   "id": "421b6079-56eb-4512-98a9-c6f8c0115070",
   "metadata": {},
   "source": [
    "### Problem 06"
   ]
  },
  {
   "cell_type": "markdown",
   "id": "108ae1ac-ea86-4d99-bc8a-106b08211ae6",
   "metadata": {},
   "source": [
    "![Sine](data:image/png;base64,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)"
   ]
  },
  {
   "cell_type": "code",
   "execution_count": 49,
   "id": "c16eaba4-68a6-46e4-a215-4e5376d0c98d",
   "metadata": {},
   "outputs": [
    {
     "name": "stdin",
     "output_type": "stream",
     "text": [
      "Enter deg:  999999999999999\n"
     ]
    },
    {
     "name": "stdout",
     "output_type": "stream",
     "text": [
      "sin(999999999999999.0) ≈ -0.9876883405951359\n",
      "sin(999999999999999.0) = -0.9876883405951378\n",
      "error rate (%) = 1.9109055602757385e-13\n"
     ]
    }
   ],
   "source": [
    "# Approximation of sine\n",
    "d = float(input('Enter deg: '))\n",
    "num = floor(d/360)\n",
    "deg = d\n",
    "if num>=1:\n",
    "    deg = abs(360*num - d)\n",
    "    \n",
    "rad = radians(deg)\n",
    "\n",
    "\n",
    "# Factorial : 5! = 5*4*3*2*1\n",
    "i = 0\n",
    "maximum = 85\n",
    "approx = 0\n",
    "while i<maximum:\n",
    "    # Factorial : 5! = 5*4*3*2*1\n",
    "    fac = 1\n",
    "    n = (2*i) + 1\n",
    "    j = 1\n",
    "    while j<=n:\n",
    "        fac*=j\n",
    "        j+=1\n",
    "    p_negone = (-1)**i\n",
    "    p_rad = rad**(2*i + 1)\n",
    "\n",
    "    approx += p_negone * p_rad / fac\n",
    "    \n",
    "    i+=1\n",
    "\n",
    "real_sine = sin(rad)\n",
    "\n",
    "print(f'sin({d}) ≈ {approx}')\n",
    "print(f'sin({d}) = {real_sine}')\n",
    "\n",
    "error_rate = abs((approx-real_sine) / real_sine * 100)\n",
    "print(f'error rate (%) = {error_rate}')"
   ]
  },
  {
   "cell_type": "markdown",
   "id": "3dc74fda-aa64-4cdf-876d-d49b5d18d2bb",
   "metadata": {},
   "source": [
    "### Problem 07"
   ]
  },
  {
   "cell_type": "code",
   "execution_count": null,
   "id": "467e78a7-d058-4ef9-9080-be26d8ace328",
   "metadata": {},
   "outputs": [],
   "source": [
    "# Multiples of 3 or 5\n",
    "\n"
   ]
  }
 ],
 "metadata": {
  "kernelspec": {
   "display_name": "Python 3 (ipykernel)",
   "language": "python",
   "name": "python3"
  },
  "language_info": {
   "codemirror_mode": {
    "name": "ipython",
    "version": 3
   },
   "file_extension": ".py",
   "mimetype": "text/x-python",
   "name": "python",
   "nbconvert_exporter": "python",
   "pygments_lexer": "ipython3",
   "version": "3.10.14"
  }
 },
 "nbformat": 4,
 "nbformat_minor": 5
}
