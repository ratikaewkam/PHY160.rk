{
 "cells": [
  {
   "cell_type": "code",
   "execution_count": null,
   "id": "00b341b4-48f0-4af2-8c49-16cd00f70193",
   "metadata": {},
   "outputs": [],
   "source": []
  }
 ],
 "metadata": {
  "kernelspec": {
   "display_name": "",
   "name": ""
  },
  "language_info": {
   "name": ""
  }
 },
 "nbformat": 4,
 "nbformat_minor": 5
}
