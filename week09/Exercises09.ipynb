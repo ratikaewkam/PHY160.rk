{
 "cells": [
  {
   "cell_type": "markdown",
   "id": "4f66c822-de6f-41eb-9b01-93bb9caebca1",
   "metadata": {},
   "source": [
    "### Problem 1"
   ]
  },
  {
   "cell_type": "code",
   "execution_count": null,
   "id": "2fb32e0e-98c4-41ba-a568-383d2ab4c875",
   "metadata": {},
   "outputs": [],
   "source": [
    "### Problem 1"
   ]
  },
  {
   "cell_type": "code",
   "execution_count": null,
   "id": "663de162-a4f9-4802-b070-c089aa52e1d2",
   "metadata": {},
   "outputs": [],
   "source": [
    "### Problem 1"
   ]
  }
 ],
 "metadata": {
  "kernelspec": {
   "display_name": "Python 3 (ipykernel)",
   "language": "python",
   "name": "python3"
  },
  "language_info": {
   "codemirror_mode": {
    "name": "ipython",
    "version": 3
   },
   "file_extension": ".py",
   "mimetype": "text/x-python",
   "name": "python",
   "nbconvert_exporter": "python",
   "pygments_lexer": "ipython3",
   "version": "3.10.14"
  }
 },
 "nbformat": 4,
 "nbformat_minor": 5
}
