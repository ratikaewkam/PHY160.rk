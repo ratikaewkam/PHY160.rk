{
 "cells": [
  {
   "cell_type": "code",
   "execution_count": 1,
   "id": "49a12e4b-1eac-4bec-9f41-c33b64e0e3a6",
   "metadata": {},
   "outputs": [],
   "source": [
    "import numpy as np"
   ]
  },
  {
   "cell_type": "code",
   "execution_count": 2,
   "id": "fff6b17c-c01e-4e75-92df-e50f0ce7387e",
   "metadata": {},
   "outputs": [],
   "source": [
    "import warnings\n",
    "warnings.filterwarnings('ignore')"
   ]
  },
  {
   "cell_type": "markdown",
   "id": "4f66c822-de6f-41eb-9b01-93bb9caebca1",
   "metadata": {},
   "source": [
    "### Problem 1"
   ]
  },
  {
   "cell_type": "code",
   "execution_count": 16,
   "id": "a514e4c8-238c-4f69-bbbf-a5b38e761743",
   "metadata": {},
   "outputs": [
    {
     "name": "stdout",
     "output_type": "stream",
     "text": [
      "position 3: 3, last position: 10\n"
     ]
    }
   ],
   "source": [
    "x = np.arange(1, 11)\n",
    "print(f\"position 3: {x[2]}, last position: {x[-1]}\")"
   ]
  },
  {
   "cell_type": "markdown",
   "id": "f2ba7925-f54f-43d6-82e3-98e75803c46e",
   "metadata": {},
   "source": [
    "### Problem 2"
   ]
  },
  {
   "cell_type": "code",
   "execution_count": 4,
   "id": "c46c8827-475c-4212-95fb-1b959a411422",
   "metadata": {},
   "outputs": [
    {
     "name": "stdout",
     "output_type": "stream",
     "text": [
      "total: 600, average: 25.0\n"
     ]
    }
   ],
   "source": [
    "x = np.arange(2, 49, 2)\n",
    "total = np.sum(x)\n",
    "avg = np.average(x)\n",
    "print(f'total: {total}, average: {avg}')"
   ]
  },
  {
   "cell_type": "markdown",
   "id": "e75ae2c7-68f4-41e5-a491-a20261bf6751",
   "metadata": {},
   "source": [
    "### Problem 3"
   ]
  },
  {
   "cell_type": "code",
   "execution_count": 5,
   "id": "af9acdb2-5ea2-423a-94d4-7930570de97d",
   "metadata": {},
   "outputs": [
    {
     "data": {
      "text/plain": [
       "array([ 5,  9, 13, 17, 21, 25, 29, 33, 37, 41, 45, 49, 53, 57, 61, 65])"
      ]
     },
     "execution_count": 5,
     "metadata": {},
     "output_type": "execute_result"
    }
   ],
   "source": [
    "x = np.arange(3, 66, 2)\n",
    "y = x[1::2]\n",
    "y"
   ]
  },
  {
   "cell_type": "markdown",
   "id": "a9ec8b11-3c4b-4cca-b48e-afca46ab8d1e",
   "metadata": {},
   "source": [
    "### Problem 4"
   ]
  },
  {
   "cell_type": "code",
   "execution_count": 6,
   "id": "21dccfaa-6bf6-40ff-bde6-e7b3fab7652b",
   "metadata": {},
   "outputs": [
    {
     "data": {
      "text/plain": [
       "array([    0,     1,     4,     9,    16,    25,    36,    49,    64,\n",
       "          81,   100,   121,   144,   169,   196,   225,   256,   289,\n",
       "         324,   361,   400,   441,   484,   529,   576,   625,   676,\n",
       "         729,   784,   841,   900,   961,  1024,  1089,  1156,  1225,\n",
       "        1296,  1369,  1444,  1521,  1600,  1681,  1764,  1849,  1936,\n",
       "        2025,  2116,  2209,  2304,  2401,  2500,  2601,  2704,  2809,\n",
       "        2916,  3025,  3136,  3249,  3364,  3481,  3600,  3721,  3844,\n",
       "        3969,  4096,  4225,  4356,  4489,  4624,  4761,  4900,  5041,\n",
       "        5184,  5329,  5476,  5625,  5776,  5929,  6084,  6241,  6400,\n",
       "        6561,  6724,  6889,  7056,  7225,  7396,  7569,  7744,  7921,\n",
       "        8100,  8281,  8464,  8649,  8836,  9025,  9216,  9409,  9604,\n",
       "        9801, 10000])"
      ]
     },
     "execution_count": 6,
     "metadata": {},
     "output_type": "execute_result"
    }
   ],
   "source": [
    "t = np.arange(0, 101)\n",
    "t_squared = np.pow(t, 2)\n",
    "t_squared"
   ]
  },
  {
   "cell_type": "markdown",
   "id": "cd7c8367-bfde-4229-aa03-8a13669a66c5",
   "metadata": {},
   "source": [
    "### Problem 5"
   ]
  },
  {
   "cell_type": "code",
   "execution_count": 7,
   "id": "db5aaaec-2f18-4678-8706-49246994f864",
   "metadata": {},
   "outputs": [
    {
     "data": {
      "text/plain": [
       "(array([6, 6, 6, 6, 6]), array([5, 8, 9, 8, 5]))"
      ]
     },
     "execution_count": 7,
     "metadata": {},
     "output_type": "execute_result"
    }
   ],
   "source": [
    "a = np.array([1, 2, 3, 4, 5])\n",
    "b = np.array([5, 4, 3, 2, 1])\n",
    "summation = np.add(a, b)\n",
    "multi = np.multiply(a, b)\n",
    "summation, multi"
   ]
  },
  {
   "cell_type": "markdown",
   "id": "c85679b6-0599-406a-9474-9ab66eceed2c",
   "metadata": {},
   "source": [
    "### Problem 6"
   ]
  },
  {
   "cell_type": "code",
   "execution_count": 8,
   "id": "4239f2ea-bea0-4925-afe3-c452a6317a41",
   "metadata": {},
   "outputs": [
    {
     "name": "stdout",
     "output_type": "stream",
     "text": [
      "t1: [0 1 2 3]\n",
      "t2: [1 2 3 4]\n",
      "x1: [ 0  2  8 18]\n",
      "x2: [ 2  8 18 32]\n",
      "avg v (m/s): [ 2.  6. 10. 14.]\n"
     ]
    }
   ],
   "source": [
    "x = np.array([0, 2, 8, 18, 32])\n",
    "t = np.array([0, 1, 2, 3, 4])\n",
    "\n",
    "t1 = t[0:-1]\n",
    "print(f't1: {t1}')\n",
    "\n",
    "t2 = t[1:]\n",
    "print(f't2: {t2}')\n",
    "\n",
    "x1 = x[0:-1]\n",
    "print(f'x1: {x1}')\n",
    "\n",
    "x2 = x[1:]\n",
    "print(f'x2: {x2}')\n",
    "\n",
    "c = (x2-x1) / (t2-t1)\n",
    "print(f'avg v (m/s): {c}')"
   ]
  },
  {
   "cell_type": "markdown",
   "id": "b35a12e8-8c4e-4890-8c88-91f1b07f0e63",
   "metadata": {},
   "source": [
    "### Problem 7"
   ]
  },
  {
   "cell_type": "code",
   "execution_count": 9,
   "id": "21cd6714-d104-4949-af80-d2a0667d23ac",
   "metadata": {},
   "outputs": [
    {
     "name": "stdout",
     "output_type": "stream",
     "text": [
      "kinetic energy: [  0.   3.  12.  27.  48.  75. 108. 147. 192. 243. 300.]\n"
     ]
    }
   ],
   "source": [
    "m = 1.5\n",
    "v = np.arange(0, 21, 2)\n",
    "v_squared = np.pow(v, 2)\n",
    "kinetic = np.multiply(v_squared, 1/2*m)\n",
    "print(f'kinetic energy: {kinetic}')"
   ]
  },
  {
   "cell_type": "markdown",
   "id": "eda2d19a-db06-4d5b-a63e-9544dbacc590",
   "metadata": {},
   "source": [
    "### Problem 8"
   ]
  },
  {
   "cell_type": "code",
   "execution_count": 18,
   "id": "15ad6e52-2d4f-45cb-904a-34a8b6ee72f4",
   "metadata": {},
   "outputs": [
    {
     "name": "stdout",
     "output_type": "stream",
     "text": [
      "Highest temperature 27.1 at t = 9\n"
     ]
    }
   ],
   "source": [
    "T = np.array([22.1, 22.8, 23.6, 24.5, 25.3, 26.0, 26.5, 26.9, 27.1, 27.0])\n",
    "t_max = np.argmax(T)+1\n",
    "maxT = T[t_max-1]\n",
    "\n",
    "print(f'Highest temperature {maxT} at t = {t_max}')"
   ]
  },
  {
   "cell_type": "markdown",
   "id": "58b61145-1829-43fe-bbe4-8ef34d6003ff",
   "metadata": {},
   "source": [
    "### Problem 9"
   ]
  },
  {
   "cell_type": "code",
   "execution_count": 11,
   "id": "5adbdcf3-fdfd-4c3b-87cb-a60b1472ba24",
   "metadata": {},
   "outputs": [
    {
     "name": "stdout",
     "output_type": "stream",
     "text": [
      "Current: [2.         1.5        2.         2.33333333 2.5        2.4       ]\n",
      "Power: [ 4.          4.5        10.         16.33333333 25.         28.8       ]\n"
     ]
    }
   ],
   "source": [
    "V = np.array([2, 3, 5, 7, 10, 12])\n",
    "R = np.array([1, 2, 2.5, 3, 4, 5])\n",
    "\n",
    "I = np.divide(V, R)\n",
    "P = np.multiply(I, V)\n",
    "\n",
    "print(f'Current: {I}')\n",
    "print(f'Power: {P}')"
   ]
  },
  {
   "cell_type": "markdown",
   "id": "75ae8e07-591a-448b-b5c4-92ed9b0234b6",
   "metadata": {},
   "source": [
    "### Problem 10"
   ]
  },
  {
   "cell_type": "code",
   "execution_count": 12,
   "id": "bc21a7a6-71ad-4fd4-9ed0-8cc304a813d9",
   "metadata": {},
   "outputs": [
    {
     "name": "stdout",
     "output_type": "stream",
     "text": [
      "time (s): [0.  0.1 0.2 0.3 0.4 0.5 0.6 0.7 0.8 0.9 1.  1.1 1.2 1.3 1.4 1.5 1.6 1.7\n",
      " 1.8 1.9 2.  2.1 2.2 2.3 2.4 2.5 2.6 2.7 2.8 2.9 3.  3.1 3.2 3.3 3.4 3.5\n",
      " 3.6 3.7 3.8 3.9 4.  4.1 4.2 4.3 4.4 4.5 4.6 4.7 4.8 4.9 5. ]\n",
      "v (m/s): [ 1.   1.2  1.4  1.6  1.8  2.   2.2  2.4  2.6  2.8  3.   3.2  3.4  3.6\n",
      "  3.8  4.   4.2  4.4  4.6  4.8  5.   5.2  5.4  5.6  5.8  6.   6.2  6.4\n",
      "  6.6  6.8  7.   7.2  7.4  7.6  7.8  8.   8.2  8.4  8.6  8.8  9.   9.2\n",
      "  9.4  9.6  9.8 10.  10.2 10.4 10.6 10.8 11. ]\n",
      "x (m): [ 0.    0.11  0.24  0.39  0.56  0.75  0.96  1.19  1.44  1.71  2.    2.31\n",
      "  2.64  2.99  3.36  3.75  4.16  4.59  5.04  5.51  6.    6.51  7.04  7.59\n",
      "  8.16  8.75  9.36  9.99 10.64 11.31 12.   12.71 13.44 14.19 14.96 15.75\n",
      " 16.56 17.39 18.24 19.11 20.   20.91 21.84 22.79 23.76 24.75 25.76 26.79\n",
      " 27.84 28.91 30.  ]\n"
     ]
    }
   ],
   "source": [
    "a = 2\n",
    "u = 1\n",
    "\n",
    "t = np.arange(0, 5.1, 0.1)\n",
    "print(f'time (s): {t}')\n",
    "\n",
    "v = u + (a*t)\n",
    "print(f'v (m/s): {v}')\n",
    "\n",
    "x = (u*t) + (1/2)*a*np.pow(t, 2)\n",
    "print(f'x (m): {x}')"
   ]
  },
  {
   "cell_type": "markdown",
   "id": "b020eb9a-3f39-4e2c-9007-b4aa3607fb9a",
   "metadata": {},
   "source": [
    "### Problem 11"
   ]
  },
  {
   "cell_type": "code",
   "execution_count": 13,
   "id": "79d3a814-92b2-4b57-9869-4c92c2704049",
   "metadata": {},
   "outputs": [
    {
     "name": "stdout",
     "output_type": "stream",
     "text": [
      "average: 1.0, standard deviation: 0.014142135623730963\n"
     ]
    }
   ],
   "source": [
    "x = np.array([0.98, 1.02, 1.00, 1.01, 0.99])\n",
    "avg = np.average(x)\n",
    "std = np.std(x)\n",
    "print(f'average: {avg}, standard deviation: {std}')"
   ]
  },
  {
   "cell_type": "markdown",
   "id": "82b6f073-d586-4896-b2c7-4b31eddf21a6",
   "metadata": {},
   "source": [
    "### Problem 12"
   ]
  },
  {
   "cell_type": "code",
   "execution_count": 14,
   "id": "0ddf81b0-78a5-4024-956f-76b33d545bc2",
   "metadata": {},
   "outputs": [
    {
     "name": "stdout",
     "output_type": "stream",
     "text": [
      "m0: 1 kg\n",
      "v/c: [0.   0.05 0.1  0.15 0.2  0.25 0.3  0.35 0.4  0.45 0.5  0.55 0.6  0.65\n",
      " 0.7  0.75 0.8  0.85 0.9  0.95 1.  ]\n",
      "m/m0: [1.         1.00125235 1.00503782 1.01144347 1.02062073 1.03279556\n",
      " 1.04828484 1.06752103 1.09108945 1.11978502 1.15470054 1.19736868\n",
      " 1.25       1.31590339 1.40028008 1.51185789 1.66666667 1.89831599\n",
      " 2.29415734 3.20256308        inf]\n",
      "m/m0 ≈ 1.5 when v/c ≈ 3/4\n",
      "------------------------------------\n",
      "Discussion: As the ratio of speed to the speed of light approaches 1, mass increases to infinity, or in other words, as we approach the speed of light, mass increases.\n"
     ]
    }
   ],
   "source": [
    "# special relativity\n",
    "v_c = np.arange(0, 1.05, 0.05)\n",
    "m = 1\n",
    "print('m0:', m, 'kg')\n",
    "M = m/np.sqrt(1- np.pow(v_c, 2))\n",
    "M_m = np.divide(M, m)\n",
    "print('v/c:', v_c)\n",
    "print('m/m0:', M_m)\n",
    "print(f'm/m0 ≈ 1.5 when v/c ≈ 3/4')\n",
    "print('------------------------------------')\n",
    "print('Discussion: As the ratio of speed to the speed of light approaches 1, mass increases to infinity, or in other words, as we approach the speed of light, mass increases.')"
   ]
  },
  {
   "cell_type": "code",
   "execution_count": null,
   "id": "2302ece8-b615-47ea-8abd-4678a320b106",
   "metadata": {},
   "outputs": [],
   "source": []
  }
 ],
 "metadata": {
  "kernelspec": {
   "display_name": "Python 3 (ipykernel)",
   "language": "python",
   "name": "python3"
  },
  "language_info": {
   "codemirror_mode": {
    "name": "ipython",
    "version": 3
   },
   "file_extension": ".py",
   "mimetype": "text/x-python",
   "name": "python",
   "nbconvert_exporter": "python",
   "pygments_lexer": "ipython3",
   "version": "3.12.4"
  }
 },
 "nbformat": 4,
 "nbformat_minor": 5
}
