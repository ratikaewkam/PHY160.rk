{
  "cells": [
    {
      "cell_type": "code",
      "source": [
        "!pip install ColabTurtlePlus"
      ],
      "metadata": {
        "colab": {
          "base_uri": "https://localhost:8080/"
        },
        "id": "5lBlG0RjmlnL",
        "outputId": "a6934912-fd5e-4c0e-e2d1-0f33cb97f5f3"
      },
      "id": "5lBlG0RjmlnL",
      "execution_count": 1,
      "outputs": [
        {
          "output_type": "stream",
          "name": "stdout",
          "text": [
            "Requirement already satisfied: ColabTurtlePlus in /usr/local/lib/python3.12/dist-packages (2.0.1)\n"
          ]
        }
      ]
    },
    {
      "cell_type": "code",
      "execution_count": 2,
      "id": "994548ad-0196-4a4d-bc0e-9018dabe5af6",
      "metadata": {
        "id": "994548ad-0196-4a4d-bc0e-9018dabe5af6",
        "colab": {
          "base_uri": "https://localhost:8080/"
        },
        "outputId": "594f511e-fb4f-4c6a-d41a-137164b97615"
      },
      "outputs": [
        {
          "output_type": "stream",
          "name": "stdout",
          "text": [
            "Put clearscreen() as the first line in a cell (after the import command) to re-run turtle commands in the cell\n"
          ]
        }
      ],
      "source": [
        "import math\n",
        "from turtle import *\n",
        "import ColabTurtlePlus.Turtle as turtle\n",
        "import matplotlib.pyplot as plt\n",
        "import numpy as np\n",
        "import random"
      ]
    },
    {
      "cell_type": "markdown",
      "id": "8856b151-9f7e-4294-8477-b487ce89e57a",
      "metadata": {
        "id": "8856b151-9f7e-4294-8477-b487ce89e57a"
      },
      "source": [
        "### Problem 1"
      ]
    },
    {
      "cell_type": "code",
      "source": [
        "x, y = input().split()\n",
        "r = float(input())\n",
        "\n",
        "x = int(x)\n",
        "y = int(y)\n",
        "\n",
        "d = (x**2 + y**2)**(1/2)\n",
        "\n",
        "if d<=r:\n",
        "  print('In')\n",
        "else:\n",
        "  print('Out')"
      ],
      "metadata": {
        "colab": {
          "base_uri": "https://localhost:8080/"
        },
        "id": "d-xU0MABtdsM",
        "outputId": "d9b833de-521b-427d-acf9-bd34d7b2923f"
      },
      "id": "d-xU0MABtdsM",
      "execution_count": 3,
      "outputs": [
        {
          "output_type": "stream",
          "name": "stdout",
          "text": [
            "5 3\n",
            "7\n",
            "In\n"
          ]
        }
      ]
    },
    {
      "cell_type": "code",
      "source": [
        "c1 = plt.Circle((0, 0), r, color='r', fill=False)\n",
        "\n",
        "fig, ax = plt.subplots()\n",
        "ax = plt.gca()\n",
        "ax.cla() # clear things for fresh plot\n",
        "\n",
        "# change default range so that new circles will work\n",
        "ax.set_xlim((-10, 10))\n",
        "ax.set_ylim((-10, 10))\n",
        "\n",
        "ax.add_patch(c1)\n",
        "plt.scatter(x, y)"
      ],
      "metadata": {
        "colab": {
          "base_uri": "https://localhost:8080/",
          "height": 452
        },
        "id": "QmffTif1P496",
        "outputId": "66151bad-47d4-4f2a-b4a0-1a7dd8fbd48a"
      },
      "id": "QmffTif1P496",
      "execution_count": 4,
      "outputs": [
        {
          "output_type": "execute_result",
          "data": {
            "text/plain": [
              "<matplotlib.collections.PathCollection at 0x7f3b24b03fb0>"
            ]
          },
          "metadata": {},
          "execution_count": 4
        },
        {
          "output_type": "display_data",
          "data": {
            "text/plain": [
              "<Figure size 640x480 with 1 Axes>"
            ],
            "image/png": "[encoded data removed]"
          },
          "metadata": {}
        }
      ]
    },
    {
      "cell_type": "markdown",
      "id": "938f95fe-75f1-4eee-a3df-40a3435eb64d",
      "metadata": {
        "id": "938f95fe-75f1-4eee-a3df-40a3435eb64d"
      },
      "source": [
        "### Problem 2"
      ]
    },
    {
      "cell_type": "code",
      "source": [
        "d = float(input('Enter deg: '))\n",
        "num = math.floor(d/360)\n",
        "deg = d\n",
        "if num>=1:\n",
        "    deg = abs(360*num - d)\n",
        "\n",
        "rad = math.radians(deg)\n",
        "\n",
        "# math.sin()\n",
        "sine_func = math.sin(rad)\n",
        "\n",
        "# Approximation of sine\n",
        "maximum = 3\n",
        "approx = 0\n",
        "\n",
        "for i in range(maximum+1):\n",
        "    n = (2*i) + 1\n",
        "    fac = math.factorial(n)\n",
        "    power = rad**(2*i + 1)\n",
        "    approx += ((-1)**i) * power/fac\n",
        "\n",
        "sine_func = round(sine_func, 4)\n",
        "approx = round(approx, 4)\n",
        "\n",
        "print(f'math.sin({d}): {sine_func}')\n",
        "print(f'Taylor expansion: {approx}')"
      ],
      "metadata": {
        "colab": {
          "base_uri": "https://localhost:8080/"
        },
        "id": "W8g6rZH6tOHr",
        "outputId": "5feacfe2-98c3-4105-ea04-3c35b639dbd2"
      },
      "id": "W8g6rZH6tOHr",
      "execution_count": 5,
      "outputs": [
        {
          "output_type": "stream",
          "name": "stdout",
          "text": [
            "Enter deg: 30\n",
            "math.sin(30.0): 0.5\n",
            "Taylor expansion: 0.5\n"
          ]
        }
      ]
    },
    {
      "cell_type": "markdown",
      "id": "a14184a0-90b7-4370-aecd-b9ca1084ef01",
      "metadata": {
        "id": "a14184a0-90b7-4370-aecd-b9ca1084ef01"
      },
      "source": [
        "### Problem 3"
      ]
    },
    {
      "cell_type": "code",
      "source": [
        "d = float(input('Enter deg: '))\n",
        "num = math.floor(d/360)\n",
        "deg = d\n",
        "if num>=1:\n",
        "    deg = abs(360*num - d)\n",
        "\n",
        "rad = math.radians(deg)\n",
        "\n",
        "# math.cos()\n",
        "cosine_func = math.cos(rad)\n",
        "\n",
        "# Approximation of cosine\n",
        "maximum = 4\n",
        "approx = 0\n",
        "\n",
        "for i in range(maximum+1):\n",
        "    n = (2*i)\n",
        "    fac = math.factorial(n)\n",
        "    power = rad**(2*i)\n",
        "    approx += ((-1)**i) * power/fac\n",
        "\n",
        "cosine_func = round(cosine_func, 4)\n",
        "approx = round(approx, 4)\n",
        "\n",
        "print(f'math.cos({d}): {cosine_func}')\n",
        "print(f'Taylor expansion: {approx}')"
      ],
      "metadata": {
        "colab": {
          "base_uri": "https://localhost:8080/"
        },
        "id": "KmqNqx_mwMrc",
        "outputId": "de7be5a9-952c-4b17-d92c-ad55fef5471a"
      },
      "id": "KmqNqx_mwMrc",
      "execution_count": 6,
      "outputs": [
        {
          "output_type": "stream",
          "name": "stdout",
          "text": [
            "Enter deg: 30\n",
            "math.cos(30.0): 0.866\n",
            "Taylor expansion: 0.866\n"
          ]
        }
      ]
    },
    {
      "cell_type": "markdown",
      "id": "203de9d7-7086-4f6c-861e-e1b667a470eb",
      "metadata": {
        "id": "203de9d7-7086-4f6c-861e-e1b667a470eb"
      },
      "source": [
        "### Problem 4"
      ]
    },
    {
      "cell_type": "code",
      "source": [
        "# PI (Monte Carlo Method)\n",
        "\n",
        "n = 10000000\n",
        "c = 0\n",
        "r = 1\n",
        "X = []\n",
        "Y = []\n",
        "A = []\n",
        "B = []\n",
        "\n",
        "for i in range(n):\n",
        "  x = random.uniform(-1, 1)\n",
        "  y = random.uniform(-1, 1)\n",
        "  X.append(x)\n",
        "  Y.append(y)\n",
        "  d = (x**2 + y**2)**(1/2)\n",
        "\n",
        "  if d<=r:\n",
        "    c+=1\n",
        "    A.append(x)\n",
        "    B.append(y)\n",
        "\n",
        "prob = c/n\n",
        "pi = 4*prob\n",
        "print(pi)\n",
        "print(math.pi)"
      ],
      "metadata": {
        "colab": {
          "base_uri": "https://localhost:8080/"
        },
        "id": "Gifui-u7G7qn",
        "outputId": "c3257678-5cea-4329-cb30-138cdc32583e"
      },
      "id": "Gifui-u7G7qn",
      "execution_count": 7,
      "outputs": [
        {
          "output_type": "stream",
          "name": "stdout",
          "text": [
            "3.1412252\n",
            "3.141592653589793\n"
          ]
        }
      ]
    },
    {
      "cell_type": "code",
      "source": [
        "plt.scatter(X, Y)\n",
        "plt.scatter(A, B)"
      ],
      "metadata": {
        "colab": {
          "base_uri": "https://localhost:8080/",
          "height": 447
        },
        "id": "tnJWs7NwVZ23",
        "outputId": "b848baef-7189-480e-ea0f-cacae7bef4f7"
      },
      "id": "tnJWs7NwVZ23",
      "execution_count": 8,
      "outputs": [
        {
          "output_type": "execute_result",
          "data": {
            "text/plain": [
              "<matplotlib.collections.PathCollection at 0x7f3aeb5562a0>"
            ]
          },
          "metadata": {},
          "execution_count": 8
        },
        {
          "output_type": "display_data",
          "data": {
            "text/plain": [
              "<Figure size 640x480 with 1 Axes>"
            ],
            "image/png": "[encoded data removed]"
          },
          "metadata": {}
        }
      ]
    },
    {
      "cell_type": "markdown",
      "id": "1b11211c-4a8d-4d7a-9a1e-46d5a4cd3b44",
      "metadata": {
        "id": "1b11211c-4a8d-4d7a-9a1e-46d5a4cd3b44"
      },
      "source": [
        "### Problem 5"
      ]
    },
    {
      "cell_type": "code",
      "source": [
        "# Integration x^2 from x=0 to x=10 (Trapezoidal Method)\n",
        "# Expectation 333.3333333...\n",
        "\n",
        "a = 0\n",
        "b = 10\n",
        "n = 100000\n",
        "delta_x = (b-a)/n\n",
        "\n",
        "sum = 0\n",
        "x = a\n",
        "for i in range(n+1):\n",
        "  y = x**2\n",
        "  if i==0 or i==n:\n",
        "    value = y\n",
        "    sum+=value\n",
        "  else:\n",
        "    value = 2*y\n",
        "    sum+=value\n",
        "  x += delta_x\n",
        "\n",
        "t = (delta_x/2)*sum\n",
        "t = round(t, 5)\n",
        "\n",
        "t"
      ],
      "metadata": {
        "colab": {
          "base_uri": "https://localhost:8080/"
        },
        "id": "MhnFWqZdIiiP",
        "outputId": "ab529cc7-83ef-41e6-ccf6-491d3b7f3306"
      },
      "id": "MhnFWqZdIiiP",
      "execution_count": 9,
      "outputs": [
        {
          "output_type": "execute_result",
          "data": {
            "text/plain": [
              "333.33333"
            ]
          },
          "metadata": {},
          "execution_count": 9
        }
      ]
    },
    {
      "cell_type": "markdown",
      "id": "913299ea-964f-46dc-a522-5e3c2c9d9ecc",
      "metadata": {
        "id": "913299ea-964f-46dc-a522-5e3c2c9d9ecc"
      },
      "source": [
        "### Problem 6"
      ]
    },
    {
      "cell_type": "code",
      "source": [
        "turtle.initializeTurtle()\n",
        "tt = turtle.Turtle()\n",
        "tt.clear()\n",
        "\n",
        "tt.color('red')\n",
        "\n",
        "tt.left(90)\n",
        "tt.forward(100)\n",
        "tt.left(120)\n",
        "\n",
        "for i in range(6):\n",
        "  tt.forward(50)\n",
        "  tt.left(60)\n",
        "\n",
        "tt.forward(50)\n",
        "\n",
        "\n",
        "for i in range(3):\n",
        "  if i==1:\n",
        "    tt.left(120)\n",
        "    tt.forward(50)\n",
        "  else:\n",
        "    tt.left(120)\n",
        "    tt.forward(100)"
      ],
      "metadata": {
        "colab": {
          "base_uri": "https://localhost:8080/",
          "height": 622
        },
        "id": "iGsDtQwrpvi0",
        "outputId": "daab5ece-68b5-449b-c7a7-f4b07d848251"
      },
      "id": "iGsDtQwrpvi0",
      "execution_count": 10,
      "outputs": [
        {
          "output_type": "display_data",
          "data": {
            "text/plain": [
              "<IPython.core.display.HTML object>"
            ],
            "text/html": [
              "\n",
              "      <svg width=\"800\" height=\"600\">  \n",
              "        <rect width=\"100%\" height=\"100%\" style=\"fill:white;stroke:;stroke-width:1\"/>\n",
              "        \n",
              "        \n",
              "        <line x1=\"400.0\" y1=\"300.0\" x2=\"400.0\" y2=\"200.0\" stroke-linecap=\"round\" style=\"stroke:red;stroke-width:1\" /><line x1=\"400.0\" y1=\"200.0\" x2=\"356.699\" y2=\"225.0\" stroke-linecap=\"round\" style=\"stroke:red;stroke-width:1\" /><line x1=\"356.699\" y1=\"225.0\" x2=\"356.699\" y2=\"275.0\" stroke-linecap=\"round\" style=\"stroke:red;stroke-width:1\" /><line x1=\"356.699\" y1=\"275.0\" x2=\"400.0\" y2=\"300.0\" stroke-linecap=\"round\" style=\"stroke:red;stroke-width:1\" /><line x1=\"400.0\" y1=\"300.0\" x2=\"443.301\" y2=\"275.0\" stroke-linecap=\"round\" style=\"stroke:red;stroke-width:1\" /><line x1=\"443.301\" y1=\"275.0\" x2=\"443.301\" y2=\"225.0\" stroke-linecap=\"round\" style=\"stroke:red;stroke-width:1\" /><line x1=\"443.301\" y1=\"225.0\" x2=\"400.0\" y2=\"200.0\" stroke-linecap=\"round\" style=\"stroke:red;stroke-width:1\" /><line x1=\"400.0\" y1=\"200.0\" x2=\"356.699\" y2=\"225.0\" stroke-linecap=\"round\" style=\"stroke:red;stroke-width:1\" /><line x1=\"356.699\" y1=\"225.0\" x2=\"443.302\" y2=\"275.0\" stroke-linecap=\"round\" style=\"stroke:red;stroke-width:1\" /><line x1=\"443.302\" y1=\"275.0\" x2=\"443.302\" y2=\"225.0\" stroke-linecap=\"round\" style=\"stroke:red;stroke-width:1\" /><line x1=\"443.302\" y1=\"225.0\" x2=\"434.64174596215565\" y2=\"230.0\" stroke-linecap=\"round\" style=\"stroke:red;stroke-width:1\" /><line x1=\"434.64174596215565\" y1=\"230.0\" x2=\"425.9814919243113\" y2=\"235.0\" stroke-linecap=\"round\" style=\"stroke:red;stroke-width:1\" /><line x1=\"425.9814919243113\" y1=\"235.0\" x2=\"417.3212378864669\" y2=\"240.0\" stroke-linecap=\"round\" style=\"stroke:red;stroke-width:1\" /><line x1=\"417.3212378864669\" y1=\"240.0\" x2=\"408.66098384862255\" y2=\"245.0\" stroke-linecap=\"round\" style=\"stroke:red;stroke-width:1\" /><line x1=\"408.66098384862255\" y1=\"245.0\" x2=\"400.0007298107782\" y2=\"250.0\" stroke-linecap=\"round\" style=\"stroke:red;stroke-width:1\" /><line x1=\"400.0007298107782\" y1=\"250.0\" x2=\"391.3404757729338\" y2=\"255.0\" stroke-linecap=\"round\" style=\"stroke:red;stroke-width:1\" /><line x1=\"391.3404757729338\" y1=\"255.0\" x2=\"382.68022173508945\" y2=\"260.0\" stroke-linecap=\"round\" style=\"stroke:red;stroke-width:1\" /><line x1=\"382.68022173508945\" y1=\"260.0\" x2=\"374.0199676972451\" y2=\"265.0\" stroke-linecap=\"round\" style=\"stroke:red;stroke-width:1\" /><line x1=\"374.0199676972451\" y1=\"265.0\" x2=\"365.3597136594007\" y2=\"270.0\" stroke-linecap=\"round\" style=\"stroke:red;stroke-width:1\" /><line x1=\"365.3597136594007\" y1=\"270.0\" x2=\"356.69945962155634\" y2=\"275.0\" stroke-linecap=\"round\" style=\"stroke:red;stroke-width:1\" />\n",
              "        \n",
              "        \n",
              "        <g id=\"classic\" visibility=\"visible\" transform=\"rotate(60,356.69945962155634,275.0) translate(356.69945962155634, 275.0)\">\n",
              "<polygon points=\"-5,-4.5 0,-2.5 5,-4.5 0,4.5\" transform=\"skewX(0) scale(1,1)\" style=\"stroke:red;fill:red;stroke-width:1\" />\n",
              "</g>\n",
              "      </svg>\n",
              "    "
            ]
          },
          "metadata": {}
        }
      ]
    },
    {
      "cell_type": "markdown",
      "id": "4a650ee7-8289-4657-83d7-555a07a33d7d",
      "metadata": {
        "id": "4a650ee7-8289-4657-83d7-555a07a33d7d"
      },
      "source": [
        "### Problem 7"
      ]
    },
    {
      "cell_type": "code",
      "execution_count": 11,
      "id": "a72e3baa-e506-4fd4-87ef-a1a10a809002",
      "metadata": {
        "colab": {
          "base_uri": "https://localhost:8080/",
          "height": 622
        },
        "id": "a72e3baa-e506-4fd4-87ef-a1a10a809002",
        "outputId": "366cf2b5-7a3f-429e-bb2d-5e4e29c9c98e"
      },
      "outputs": [
        {
          "output_type": "display_data",
          "data": {
            "text/plain": [
              "<IPython.core.display.HTML object>"
            ],
            "text/html": [
              "\n",
              "      <svg width=\"800\" height=\"600\">  \n",
              "        <rect width=\"100%\" height=\"100%\" style=\"fill:white;stroke:;stroke-width:1\"/>\n",
              "        \n",
              "        \n",
              "        <line x1=\"400.0\" y1=\"300.0\" x2=\"500.0\" y2=\"300.0\" stroke-linecap=\"round\" style=\"stroke:green;stroke-width:1\" /><line x1=\"500.0\" y1=\"300.0\" x2=\"450.0\" y2=\"213.397\" stroke-linecap=\"round\" style=\"stroke:green;stroke-width:1\" /><line x1=\"450.0\" y1=\"213.397\" x2=\"400.0\" y2=\"300.0\" stroke-linecap=\"round\" style=\"stroke:green;stroke-width:1\" /><line x1=\"400.0\" y1=\"300.0\" x2=\"500.0\" y2=\"300.0\" stroke-linecap=\"round\" style=\"stroke:black;stroke-width:1\" /><line x1=\"500.0\" y1=\"300.0\" x2=\"500.0\" y2=\"400.0\" stroke-linecap=\"round\" style=\"stroke:black;stroke-width:1\" /><line x1=\"500.0\" y1=\"400.0\" x2=\"400.0\" y2=\"400.0\" stroke-linecap=\"round\" style=\"stroke:black;stroke-width:1\" /><line x1=\"400.0\" y1=\"400.0\" x2=\"400.0\" y2=\"300.0\" stroke-linecap=\"round\" style=\"stroke:black;stroke-width:1\" /><line x1=\"400.0\" y1=\"300.0\" x2=\"400.0\" y2=\"400.0\" stroke-linecap=\"round\" style=\"stroke:black;stroke-width:1\" /><line x1=\"400.0\" y1=\"400.0\" x2=\"425.0\" y2=\"400.0\" stroke-linecap=\"round\" style=\"stroke:black;stroke-width:1\" /><line x1=\"425.0\" y1=\"400.0\" x2=\"475.0\" y2=\"400.0\" stroke-linecap=\"round\" style=\"stroke:red;stroke-width:1\" /><line x1=\"475.0\" y1=\"400.0\" x2=\"475.0\" y2=\"350.0\" stroke-linecap=\"round\" style=\"stroke:red;stroke-width:1\" /><line x1=\"475.0\" y1=\"350.0\" x2=\"425.0\" y2=\"350.0\" stroke-linecap=\"round\" style=\"stroke:red;stroke-width:1\" /><line x1=\"425.0\" y1=\"350.0\" x2=\"425.0\" y2=\"400.0\" stroke-linecap=\"round\" style=\"stroke:red;stroke-width:1\" />\n",
              "        \n",
              "        \n",
              "        <g id=\"classic\" visibility=\"visible\" transform=\"rotate(-90,400.0,300.0) translate(400.0, 300.0)\">\n",
              "<polygon points=\"-5,-4.5 0,-2.5 5,-4.5 0,4.5\" transform=\"skewX(0) scale(1,1)\" style=\"stroke:black;fill:black;stroke-width:1\" />\n",
              "</g><g id=\"classic\" visibility=\"visible\" transform=\"rotate(0,425.0,400.0) translate(425.0, 400.0)\">\n",
              "<polygon points=\"-5,-4.5 0,-2.5 5,-4.5 0,4.5\" transform=\"skewX(0) scale(1,1)\" style=\"stroke:red;fill:red;stroke-width:1\" />\n",
              "<animateTransform id = \"one\" attributeName=\"transform\" \n",
              "                      type=\"scale\"\n",
              "                      from=\"1 1\" to=\"1 1\"\n",
              "                      begin=\"0s\" dur=\"0.01s\"\n",
              "                      repeatCount=\"1\"\n",
              "                      additive=\"sum\"\n",
              "                      fill=\"freeze\"\n",
              "                /><animateTransform attributeName=\"transform\"\n",
              "                    type=\"rotate\"\n",
              "                    from=\"0 0 0\" to =\"-90 0 0\"\n",
              "                    begin=\"one.end\" dur=\"0.25s\"\n",
              "                    repeatCount=\"1\"\n",
              "                    additive=\"sum\"\n",
              "                    fill=\"freeze\"\n",
              "                /></g>\n",
              "      </svg>\n",
              "    "
            ]
          },
          "metadata": {}
        }
      ],
      "source": [
        "turtle.initializeTurtle()\n",
        "tt = turtle.Turtle()\n",
        "\n",
        "tt.clear()\n",
        "\n",
        "tt.color('green')\n",
        "for i in range(3):\n",
        "  tt.forward(100)\n",
        "  tt.left(120)\n",
        "\n",
        "tt.color('black')\n",
        "for i in range(4):\n",
        "  tt.forward(100)\n",
        "  tt.right(90)\n",
        "\n",
        "tt.right(90)\n",
        "tt.forward(100)\n",
        "tt.left(90)\n",
        "tt.forward(25)\n",
        "tt.color('red')\n",
        "for i in range(4):\n",
        "  tt.forward(50)\n",
        "  tt.left(90)"
      ]
    },
    {
      "cell_type": "markdown",
      "id": "1bf1c0c0-ba51-4ed8-8ecc-9522fa2d5df1",
      "metadata": {
        "jp-MarkdownHeadingCollapsed": true,
        "id": "1bf1c0c0-ba51-4ed8-8ecc-9522fa2d5df1"
      },
      "source": [
        "### Problem 8"
      ]
    },
    {
      "cell_type": "code",
      "source": [
        "turtle.initializeTurtle()\n",
        "tt = turtle.Turtle()\n",
        "\n",
        "tt.clear()\n",
        "\n",
        "tt.color('black')\n",
        "for i in range(4):\n",
        "  tt.forward(180)\n",
        "  tt.left(90)\n",
        "\n",
        "tt.forward(60)\n",
        "tt.right(45)\n",
        "\n",
        "for i in range(4):\n",
        "  tt.forward(math.sqrt(2)*30)\n",
        "  tt.left(90)\n",
        "  tt.forward(3*math.sqrt(2)*30)"
      ],
      "metadata": {
        "colab": {
          "base_uri": "https://localhost:8080/",
          "height": 622
        },
        "id": "n02mnXsGsM7J",
        "outputId": "4f7a28f5-9e30-466f-dca4-66c7f6356a5a"
      },
      "id": "n02mnXsGsM7J",
      "execution_count": 12,
      "outputs": [
        {
          "output_type": "display_data",
          "data": {
            "text/plain": [
              "<IPython.core.display.HTML object>"
            ],
            "text/html": [
              "\n",
              "      <svg width=\"800\" height=\"600\">  \n",
              "        <rect width=\"100%\" height=\"100%\" style=\"fill:white;stroke:;stroke-width:1\"/>\n",
              "        \n",
              "        \n",
              "        <line x1=\"400.0\" y1=\"300.0\" x2=\"580.0\" y2=\"300.0\" stroke-linecap=\"round\" style=\"stroke:black;stroke-width:1\" /><line x1=\"580.0\" y1=\"300.0\" x2=\"580.0\" y2=\"120.0\" stroke-linecap=\"round\" style=\"stroke:black;stroke-width:1\" /><line x1=\"580.0\" y1=\"120.0\" x2=\"400.0\" y2=\"120.0\" stroke-linecap=\"round\" style=\"stroke:black;stroke-width:1\" /><line x1=\"400.0\" y1=\"120.0\" x2=\"400.0\" y2=\"300.0\" stroke-linecap=\"round\" style=\"stroke:black;stroke-width:1\" /><line x1=\"400.0\" y1=\"300.0\" x2=\"460.0\" y2=\"300.0\" stroke-linecap=\"round\" style=\"stroke:black;stroke-width:1\" /><line x1=\"460.0\" y1=\"300.0\" x2=\"490.0\" y2=\"330.0\" stroke-linecap=\"round\" style=\"stroke:black;stroke-width:1\" /><line x1=\"490.0\" y1=\"330.0\" x2=\"580.0\" y2=\"240.0\" stroke-linecap=\"round\" style=\"stroke:black;stroke-width:1\" /><line x1=\"580.0\" y1=\"240.0\" x2=\"610.0\" y2=\"210.0\" stroke-linecap=\"round\" style=\"stroke:black;stroke-width:1\" /><line x1=\"610.0\" y1=\"210.0\" x2=\"520.0\" y2=\"120.0\" stroke-linecap=\"round\" style=\"stroke:black;stroke-width:1\" /><line x1=\"520.0\" y1=\"120.0\" x2=\"490.0\" y2=\"90.0\" stroke-linecap=\"round\" style=\"stroke:black;stroke-width:1\" /><line x1=\"490.0\" y1=\"90.0\" x2=\"400.0\" y2=\"180.0\" stroke-linecap=\"round\" style=\"stroke:black;stroke-width:1\" /><line x1=\"400.0\" y1=\"180.0\" x2=\"370.0\" y2=\"210.0\" stroke-linecap=\"round\" style=\"stroke:black;stroke-width:1\" /><line x1=\"370.0\" y1=\"210.0\" x2=\"377.0710678118655\" y2=\"217.07106781186548\" stroke-linecap=\"round\" style=\"stroke:black;stroke-width:1\" /><line x1=\"377.0710678118655\" y1=\"217.07106781186548\" x2=\"384.14213562373095\" y2=\"224.14213562373095\" stroke-linecap=\"round\" style=\"stroke:black;stroke-width:1\" /><line x1=\"384.14213562373095\" y1=\"224.14213562373095\" x2=\"391.2132034355964\" y2=\"231.21320343559643\" stroke-linecap=\"round\" style=\"stroke:black;stroke-width:1\" /><line x1=\"391.2132034355964\" y1=\"231.21320343559643\" x2=\"398.2842712474619\" y2=\"238.2842712474619\" stroke-linecap=\"round\" style=\"stroke:black;stroke-width:1\" /><line x1=\"398.2842712474619\" y1=\"238.2842712474619\" x2=\"405.3553390593274\" y2=\"245.35533905932738\" stroke-linecap=\"round\" style=\"stroke:black;stroke-width:1\" /><line x1=\"405.3553390593274\" y1=\"245.35533905932738\" x2=\"412.42640687119285\" y2=\"252.42640687119285\" stroke-linecap=\"round\" style=\"stroke:black;stroke-width:1\" /><line x1=\"412.42640687119285\" y1=\"252.42640687119285\" x2=\"419.49747468305833\" y2=\"259.49747468305833\" stroke-linecap=\"round\" style=\"stroke:black;stroke-width:1\" /><line x1=\"419.49747468305833\" y1=\"259.49747468305833\" x2=\"426.5685424949238\" y2=\"266.5685424949238\" stroke-linecap=\"round\" style=\"stroke:black;stroke-width:1\" /><line x1=\"426.5685424949238\" y1=\"266.5685424949238\" x2=\"433.6396103067893\" y2=\"273.6396103067893\" stroke-linecap=\"round\" style=\"stroke:black;stroke-width:1\" /><line x1=\"433.6396103067893\" y1=\"273.6396103067893\" x2=\"440.71067811865476\" y2=\"280.71067811865476\" stroke-linecap=\"round\" style=\"stroke:black;stroke-width:1\" /><line x1=\"440.71067811865476\" y1=\"280.71067811865476\" x2=\"447.78174593052023\" y2=\"287.78174593052023\" stroke-linecap=\"round\" style=\"stroke:black;stroke-width:1\" /><line x1=\"447.78174593052023\" y1=\"287.78174593052023\" x2=\"454.8528137423857\" y2=\"294.8528137423857\" stroke-linecap=\"round\" style=\"stroke:black;stroke-width:1\" /><line x1=\"454.8528137423857\" y1=\"294.8528137423857\" x2=\"460.0\" y2=\"300.0\" stroke-linecap=\"round\" style=\"stroke:black;stroke-width:1\" />\n",
              "        \n",
              "        \n",
              "        <g id=\"classic\" visibility=\"visible\" transform=\"rotate(-90,400.0,300.0) translate(400.0, 300.0)\">\n",
              "<polygon points=\"-5,-4.5 0,-2.5 5,-4.5 0,4.5\" transform=\"skewX(0) scale(1,1)\" style=\"stroke:black;fill:black;stroke-width:1\" />\n",
              "</g><g id=\"classic\" visibility=\"visible\" transform=\"rotate(-90,400.0,300.0) translate(400.0, 300.0)\">\n",
              "<polygon points=\"-5,-4.5 0,-2.5 5,-4.5 0,4.5\" transform=\"skewX(0) scale(1,1)\" style=\"stroke:black;fill:black;stroke-width:1\" />\n",
              "</g><g id=\"classic\" visibility=\"visible\" transform=\"rotate(-45,460.0,300.0) translate(460.0, 300.0)\">\n",
              "<polygon points=\"-5,-4.5 0,-2.5 5,-4.5 0,4.5\" transform=\"skewX(0) scale(1,1)\" style=\"stroke:black;fill:black;stroke-width:1\" />\n",
              "</g>\n",
              "      </svg>\n",
              "    "
            ]
          },
          "metadata": {}
        }
      ]
    },
    {
      "cell_type": "markdown",
      "id": "e43e4d0e-025d-4f04-9b02-fad473a3f27d",
      "metadata": {
        "id": "e43e4d0e-025d-4f04-9b02-fad473a3f27d"
      },
      "source": [
        "### Problem 9"
      ]
    },
    {
      "cell_type": "code",
      "source": [
        "turtle.initializeTurtle()\n",
        "tt = turtle.Turtle()\n",
        "\n",
        "tt.clear()\n",
        "\n",
        "for i in range(5):\n",
        "  if i==0:\n",
        "    tt.left(90)\n",
        "    tt.forward(50)\n",
        "  else:\n",
        "    tt.right(90+72)\n",
        "    tt.left(90)\n",
        "    tt.forward(50)\n",
        "  for j in range(4):\n",
        "    if j==3:\n",
        "      tt.right(90)\n",
        "      tt.forward(50)\n",
        "    else:\n",
        "      tt.right(90)\n",
        "      tt.forward(100)"
      ],
      "metadata": {
        "id": "34-ToXQSyJ2u",
        "colab": {
          "base_uri": "https://localhost:8080/",
          "height": 622
        },
        "outputId": "3be5f65a-0ef8-47b5-fa86-a1034b56aa1c"
      },
      "id": "34-ToXQSyJ2u",
      "execution_count": 13,
      "outputs": [
        {
          "output_type": "display_data",
          "data": {
            "text/plain": [
              "<IPython.core.display.HTML object>"
            ],
            "text/html": [
              "\n",
              "      <svg width=\"800\" height=\"600\">  \n",
              "        <rect width=\"100%\" height=\"100%\" style=\"fill:white;stroke:;stroke-width:1\"/>\n",
              "        \n",
              "        \n",
              "        <line x1=\"400.0\" y1=\"300.0\" x2=\"400.0\" y2=\"250.0\" stroke-linecap=\"round\" style=\"stroke:black;stroke-width:1\" /><line x1=\"400.0\" y1=\"250.0\" x2=\"500.0\" y2=\"250.0\" stroke-linecap=\"round\" style=\"stroke:black;stroke-width:1\" /><line x1=\"500.0\" y1=\"250.0\" x2=\"500.0\" y2=\"350.0\" stroke-linecap=\"round\" style=\"stroke:black;stroke-width:1\" /><line x1=\"500.0\" y1=\"350.0\" x2=\"400.0\" y2=\"350.0\" stroke-linecap=\"round\" style=\"stroke:black;stroke-width:1\" /><line x1=\"400.0\" y1=\"350.0\" x2=\"400.0\" y2=\"300.0\" stroke-linecap=\"round\" style=\"stroke:black;stroke-width:1\" /><line x1=\"400.0\" y1=\"300.0\" x2=\"447.553\" y2=\"284.549\" stroke-linecap=\"round\" style=\"stroke:black;stroke-width:1\" /><line x1=\"447.553\" y1=\"284.549\" x2=\"478.455\" y2=\"379.655\" stroke-linecap=\"round\" style=\"stroke:black;stroke-width:1\" /><line x1=\"478.455\" y1=\"379.655\" x2=\"383.349\" y2=\"410.557\" stroke-linecap=\"round\" style=\"stroke:black;stroke-width:1\" /><line x1=\"383.349\" y1=\"410.557\" x2=\"352.447\" y2=\"315.451\" stroke-linecap=\"round\" style=\"stroke:black;stroke-width:1\" /><line x1=\"352.447\" y1=\"315.451\" x2=\"400.0\" y2=\"300.0\" stroke-linecap=\"round\" style=\"stroke:black;stroke-width:1\" /><line x1=\"400.0\" y1=\"300.0\" x2=\"429.389\" y2=\"340.451\" stroke-linecap=\"round\" style=\"stroke:black;stroke-width:1\" /><line x1=\"429.389\" y1=\"340.451\" x2=\"348.487\" y2=\"399.23\" stroke-linecap=\"round\" style=\"stroke:black;stroke-width:1\" /><line x1=\"348.487\" y1=\"399.23\" x2=\"289.708\" y2=\"318.328\" stroke-linecap=\"round\" style=\"stroke:black;stroke-width:1\" /><line x1=\"289.708\" y1=\"318.328\" x2=\"370.61\" y2=\"259.549\" stroke-linecap=\"round\" style=\"stroke:black;stroke-width:1\" /><line x1=\"370.61\" y1=\"259.549\" x2=\"399.999\" y2=\"300.0\" stroke-linecap=\"round\" style=\"stroke:black;stroke-width:1\" /><line x1=\"399.999\" y1=\"300.0\" x2=\"370.61\" y2=\"340.451\" stroke-linecap=\"round\" style=\"stroke:black;stroke-width:1\" /><line x1=\"370.61\" y1=\"340.451\" x2=\"289.708\" y2=\"281.672\" stroke-linecap=\"round\" style=\"stroke:black;stroke-width:1\" /><line x1=\"289.708\" y1=\"281.672\" x2=\"348.487\" y2=\"200.77\" stroke-linecap=\"round\" style=\"stroke:black;stroke-width:1\" /><line x1=\"348.487\" y1=\"200.77\" x2=\"429.389\" y2=\"259.549\" stroke-linecap=\"round\" style=\"stroke:black;stroke-width:1\" /><line x1=\"429.389\" y1=\"259.549\" x2=\"400.0\" y2=\"300.0\" stroke-linecap=\"round\" style=\"stroke:black;stroke-width:1\" /><line x1=\"400.0\" y1=\"300.0\" x2=\"352.447\" y2=\"284.549\" stroke-linecap=\"round\" style=\"stroke:black;stroke-width:1\" /><line x1=\"352.447\" y1=\"284.549\" x2=\"383.349\" y2=\"189.443\" stroke-linecap=\"round\" style=\"stroke:black;stroke-width:1\" /><line x1=\"383.349\" y1=\"189.443\" x2=\"478.455\" y2=\"220.345\" stroke-linecap=\"round\" style=\"stroke:black;stroke-width:1\" /><line x1=\"478.455\" y1=\"220.345\" x2=\"447.553\" y2=\"315.451\" stroke-linecap=\"round\" style=\"stroke:black;stroke-width:1\" /><line x1=\"447.553\" y1=\"315.451\" x2=\"438.04243483704846\" y2=\"312.36083005625056\" stroke-linecap=\"round\" style=\"stroke:black;stroke-width:1\" /><line x1=\"438.04243483704846\" y1=\"312.36083005625056\" x2=\"428.5318696740969\" y2=\"309.2706601125011\" stroke-linecap=\"round\" style=\"stroke:black;stroke-width:1\" /><line x1=\"428.5318696740969\" y1=\"309.2706601125011\" x2=\"419.0213045111454\" y2=\"306.18049016875165\" stroke-linecap=\"round\" style=\"stroke:black;stroke-width:1\" /><line x1=\"419.0213045111454\" y1=\"306.18049016875165\" x2=\"409.51073934819385\" y2=\"303.0903202250022\" stroke-linecap=\"round\" style=\"stroke:black;stroke-width:1\" /><line x1=\"409.51073934819385\" y1=\"303.0903202250022\" x2=\"400.0001741852423\" y2=\"300.00015028125273\" stroke-linecap=\"round\" style=\"stroke:black;stroke-width:1\" />\n",
              "        \n",
              "        \n",
              "        <g id=\"classic\" visibility=\"visible\" transform=\"rotate(-90,400.0,300.0) translate(400.0, 300.0)\">\n",
              "<polygon points=\"-5,-4.5 0,-2.5 5,-4.5 0,4.5\" transform=\"skewX(0) scale(1,1)\" style=\"stroke:black;fill:black;stroke-width:1\" />\n",
              "</g><g id=\"classic\" visibility=\"visible\" transform=\"rotate(-90,400.0,300.0) translate(400.0, 300.0)\">\n",
              "<polygon points=\"-5,-4.5 0,-2.5 5,-4.5 0,4.5\" transform=\"skewX(0) scale(1,1)\" style=\"stroke:black;fill:black;stroke-width:1\" />\n",
              "</g><g id=\"classic\" visibility=\"visible\" transform=\"rotate(-90,400.0,300.0) translate(400.0, 300.0)\">\n",
              "<polygon points=\"-5,-4.5 0,-2.5 5,-4.5 0,4.5\" transform=\"skewX(0) scale(1,1)\" style=\"stroke:black;fill:black;stroke-width:1\" />\n",
              "</g><g id=\"classic\" visibility=\"visible\" transform=\"rotate(108,400.0001741852423,300.00015028125273) translate(400.0001741852423, 300.00015028125273)\">\n",
              "<polygon points=\"-5,-4.5 0,-2.5 5,-4.5 0,4.5\" transform=\"skewX(0) scale(1,1)\" style=\"stroke:black;fill:black;stroke-width:1\" />\n",
              "</g>\n",
              "      </svg>\n",
              "    "
            ]
          },
          "metadata": {}
        }
      ]
    }
  ],
  "metadata": {
    "kernelspec": {
      "display_name": "Python 3",
      "name": "python3"
    },
    "language_info": {
      "codemirror_mode": {
        "name": "ipython",
        "version": 3
      },
      "file_extension": ".py",
      "mimetype": "text/x-python",
      "name": "python",
      "nbconvert_exporter": "python",
      "pygments_lexer": "ipython3",
      "version": "3.10.14"
    },
    "colab": {
      "provenance": [],
      "gpuType": "T4"
    },
    "accelerator": "GPU"
  },
  "nbformat": 4,
  "nbformat_minor": 5
}