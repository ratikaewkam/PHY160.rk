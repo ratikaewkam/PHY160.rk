{
 "cells": [
  {
   "cell_type": "code",
   "execution_count": 1,
   "id": "721db9ac-d890-4e30-95fb-a142fbfeeb14",
   "metadata": {},
   "outputs": [],
   "source": [
    "import numpy as np\n",
    "import pandas as pd\n",
    "import matplotlib.pyplot as plt\n",
    "import math"
   ]
  },
  {
   "cell_type": "markdown",
   "id": "ad2572f7-8047-4a02-9475-0fcc4396a31e",
   "metadata": {},
   "source": [
    "### Problem 1"
   ]
  },
  {
   "cell_type": "code",
   "execution_count": 2,
   "id": "2016a304-a625-4bb2-aec6-20de4e8cd974",
   "metadata": {},
   "outputs": [
    {
     "data": {
      "text/plain": [
       "('proton', 'neutron')"
      ]
     },
     "execution_count": 2,
     "metadata": {},
     "output_type": "execute_result"
    }
   ],
   "source": [
    "particles = ['electron', 'proton', 'neutron']\n",
    "particles[1], particles[-1]"
   ]
  },
  {
   "cell_type": "markdown",
   "id": "687cc9b4-b723-4469-9e9b-93c7cd226fe9",
   "metadata": {},
   "source": [
    "### Problem 2"
   ]
  },
  {
   "cell_type": "code",
   "execution_count": 3,
   "id": "fec8f6fc-df7f-4033-94fa-69708d0caeeb",
   "metadata": {},
   "outputs": [
    {
     "name": "stdout",
     "output_type": "stream",
     "text": [
      "H\n",
      "l\n",
      "u\n"
     ]
    }
   ],
   "source": [
    "element = 'Helium'\n",
    "n = len(element)\n",
    "for i in range(0, n, 2):\n",
    "    print(element[i])"
   ]
  },
  {
   "cell_type": "markdown",
   "id": "5c5fe4b0-28b8-4ea9-ba75-0e2accba2643",
   "metadata": {},
   "source": [
    "### Problem 3"
   ]
  },
  {
   "cell_type": "code",
   "execution_count": 4,
   "id": "e7730c54-81ca-4256-b447-77f0758a8cb1",
   "metadata": {},
   "outputs": [
    {
     "data": {
      "text/plain": [
       "['velocity', 'acceleration', 'force']"
      ]
     },
     "execution_count": 4,
     "metadata": {},
     "output_type": "execute_result"
    }
   ],
   "source": [
    "measures = []\n",
    "measures.append('velocity')\n",
    "measures.append('acceleration')\n",
    "measures.append('force')\n",
    "measures"
   ]
  },
  {
   "cell_type": "markdown",
   "id": "61dd0869-b789-46b5-95c4-ab18488d2185",
   "metadata": {},
   "source": [
    "### Problem 4"
   ]
  },
  {
   "cell_type": "code",
   "execution_count": 5,
   "id": "46e6289a-c51e-4b91-9c0e-f68608b79296",
   "metadata": {},
   "outputs": [
    {
     "name": "stdout",
     "output_type": "stream",
     "text": [
      "average velocity = 2.94 m/s\n"
     ]
    }
   ],
   "source": [
    "v = [2.5, 3.1, 2.8, 3.4, 2.9] \n",
    "\n",
    "s = 0\n",
    "n = len(v)\n",
    "for i in range(n):\n",
    "    s += v[i]\n",
    "\n",
    "avg = s/n\n",
    "print(f'average velocity = {avg} m/s')"
   ]
  },
  {
   "cell_type": "markdown",
   "id": "5387b6b8-e787-4927-acfb-e77919d85041",
   "metadata": {},
   "source": [
    "### Problem 5"
   ]
  },
  {
   "cell_type": "code",
   "execution_count": 6,
   "id": "07997835-1a61-4b06-a8b2-ff52ed19f2dd",
   "metadata": {},
   "outputs": [
    {
     "data": {
      "text/plain": [
       "[5.0, 7.0, 9.0, 11.0]"
      ]
     },
     "execution_count": 6,
     "metadata": {},
     "output_type": "execute_result"
    }
   ],
   "source": [
    "positions = [0, 5, 12, 21, 32] \n",
    "velocities = []\n",
    "n = len(positions)\n",
    "\n",
    "for i in range(n-1):\n",
    "    xf = positions[i+1]\n",
    "    xi = positions[i]\n",
    "    v = (xf-xi)/1\n",
    "    velocities.append(v)\n",
    "\n",
    "velocities"
   ]
  },
  {
   "cell_type": "markdown",
   "id": "95aff69d-4240-471d-aa3c-688ff79a382e",
   "metadata": {},
   "source": [
    "### Problem 6"
   ]
  },
  {
   "cell_type": "code",
   "execution_count": 7,
   "id": "4176f4eb-7c95-4637-987d-84f2c0066d92",
   "metadata": {},
   "outputs": [
    {
     "data": {
      "text/plain": [
       "[1.0, 6.25, 10.240000000000002, 16.0]"
      ]
     },
     "execution_count": 7,
     "metadata": {},
     "output_type": "execute_result"
    }
   ],
   "source": [
    "def kinetic_fn(m, v):\n",
    "    e = (1/2) * m * (v**2)\n",
    "    return e\n",
    "\n",
    "vels = [1.0, 2.5, 3.2, 4.0]\n",
    "kinetic = []\n",
    "n = len(vels)\n",
    "\n",
    "for i in range(n):\n",
    "    v = vels[i]\n",
    "    kinetic.append(kinetic_fn(2, v))\n",
    "\n",
    "kinetic"
   ]
  },
  {
   "cell_type": "markdown",
   "id": "65e60fa5-1a41-4bbe-b2aa-14463eef11be",
   "metadata": {},
   "source": [
    "### Problem 7"
   ]
  },
  {
   "cell_type": "code",
   "execution_count": 8,
   "id": "b4010019-1d88-417a-a2fd-ee7a824887b6",
   "metadata": {},
   "outputs": [
    {
     "name": "stdout",
     "output_type": "stream",
     "text": [
      "maximum temperature = 30.0 at minute 5\n"
     ]
    }
   ],
   "source": [
    "temps = [22.1, 23.4, 25.0, 27.5, 28.2, 30.0, 29.8, 28.0]\n",
    "\n",
    "n = len(temps)\n",
    "max_value = temps[0]\n",
    "ind = temps.index(max_value)\n",
    "\n",
    "for i in range(n):\n",
    "    if temps[i] > max_value:\n",
    "        max_value = temps[i]\n",
    "        ind = temps.index(max_value)\n",
    "\n",
    "print(f'maximum temperature = {max_value} at minute {ind}')"
   ]
  },
  {
   "cell_type": "code",
   "execution_count": null,
   "id": "41ecac3d-8615-4230-9cb4-d3ee8db3dce2",
   "metadata": {},
   "outputs": [],
   "source": []
  }
 ],
 "metadata": {
  "kernelspec": {
   "display_name": "Python 3 (ipykernel)",
   "language": "python",
   "name": "python3"
  },
  "language_info": {
   "codemirror_mode": {
    "name": "ipython",
    "version": 3
   },
   "file_extension": ".py",
   "mimetype": "text/x-python",
   "name": "python",
   "nbconvert_exporter": "python",
   "pygments_lexer": "ipython3",
   "version": "3.10.14"
  }
 },
 "nbformat": 4,
 "nbformat_minor": 5
}
