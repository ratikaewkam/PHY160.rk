{
  "nbformat": 4,
  "nbformat_minor": 0,
  "metadata": {
    "colab": {
      "provenance": []
    },
    "kernelspec": {
      "name": "python3",
      "display_name": "Python 3"
    },
    "language_info": {
      "name": "python"
    }
  },
  "cells": [
    {
      "cell_type": "markdown",
      "source": [
        "### Problem 1"
      ],
      "metadata": {
        "id": "ng0gtoBjuLL2"
      }
    },
    {
      "cell_type": "code",
      "source": [
        "sum = 0\n",
        "n = 200000\n",
        "\n",
        "for i in range(n):\n",
        "  p = (-1)**i\n",
        "  x = ((2*i)+1)*p\n",
        "  sum += 1/x\n",
        "\n",
        "result = 4*sum\n",
        "print(result)"
      ],
      "metadata": {
        "colab": {
          "base_uri": "https://localhost:8080/"
        },
        "id": "CsKd7n3BuMwO",
        "outputId": "4b2224e3-48fa-4e69-afeb-d7cb5d0c097e"
      },
      "execution_count": null,
      "outputs": [
        {
          "output_type": "stream",
          "name": "stdout",
          "text": [
            "3.1415876535897618\n"
          ]
        }
      ]
    },
    {
      "cell_type": "markdown",
      "source": [
        "### Problem 2"
      ],
      "metadata": {
        "id": "Cyv_JnTjuNcf"
      }
    },
    {
      "cell_type": "code",
      "source": [
        "n = int(input('Enter n: '))\n",
        "\n",
        "def table(n):\n",
        "  for i in range(1, 13):\n",
        "    print(f'{n} x {i} = {n*i}')\n",
        "\n",
        "table(n)"
      ],
      "metadata": {
        "colab": {
          "base_uri": "https://localhost:8080/"
        },
        "id": "BXPGm1X-uOy3",
        "outputId": "975a8671-d940-4520-d068-bb8ee967eff0"
      },
      "execution_count": null,
      "outputs": [
        {
          "output_type": "stream",
          "name": "stdout",
          "text": [
            "Enter n: 9\n",
            "9 x 1 = 9\n",
            "9 x 2 = 18\n",
            "9 x 3 = 27\n",
            "9 x 4 = 36\n",
            "9 x 5 = 45\n",
            "9 x 6 = 54\n",
            "9 x 7 = 63\n",
            "9 x 8 = 72\n",
            "9 x 9 = 81\n",
            "9 x 10 = 90\n",
            "9 x 11 = 99\n",
            "9 x 12 = 108\n"
          ]
        }
      ]
    },
    {
      "cell_type": "markdown",
      "source": [
        "### Problem 3"
      ],
      "metadata": {
        "id": "UGm7rH1auPNw"
      }
    },
    {
      "cell_type": "code",
      "source": [
        "def temp_con(c):\n",
        "  k = c+273\n",
        "  f = ((9/5)*c) + 32\n",
        "\n",
        "  return k, f\n",
        "\n",
        "temp_c = float(input('Temp (C): '))\n",
        "temp_k, temp_f = temp_con(temp_c)\n",
        "print('F:', temp_k, 'K:', temp_f)"
      ],
      "metadata": {
        "colab": {
          "base_uri": "https://localhost:8080/"
        },
        "id": "m8IrckcHuQhr",
        "outputId": "396f1b6d-c30d-4eb6-d707-8677d07e7664"
      },
      "execution_count": null,
      "outputs": [
        {
          "output_type": "stream",
          "name": "stdout",
          "text": [
            "Temp (C): 50\n",
            "F: 323.0 K: 122.0\n"
          ]
        }
      ]
    }
  ]
}