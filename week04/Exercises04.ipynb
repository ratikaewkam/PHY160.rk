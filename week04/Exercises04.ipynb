{
 "cells": [
  {
   "cell_type": "code",
   "execution_count": 1,
   "id": "eebf1f00-5697-4245-9c17-afd6a6eb3d2a",
   "metadata": {},
   "outputs": [],
   "source": [
    "from math import *"
   ]
  },
  {
   "cell_type": "markdown",
   "id": "876c2a82-1f0b-4fb9-bdbb-0fe18951c480",
   "metadata": {},
   "source": [
    "### Problem 01"
   ]
  },
  {
   "cell_type": "code",
   "execution_count": 2,
   "id": "64a30542-8a4a-4c19-9230-281d1968dfd6",
   "metadata": {},
   "outputs": [
    {
     "name": "stdout",
     "output_type": "stream",
     "text": [
      "49\n"
     ]
    }
   ],
   "source": [
    "# Find the minimum number that makes (1/k)*k != 1\n",
    "\n",
    "# Brute Force\n",
    "\n",
    "n = int(1e10)\n",
    "for i in range(1, n):\n",
    "    if (1/i)*i != 1:\n",
    "        print(i)\n",
    "        break"
   ]
  },
  {
   "cell_type": "markdown",
   "id": "1dbfcfec-b550-493e-830d-f42fd5d8b11c",
   "metadata": {},
   "source": [
    "### Problem 02"
   ]
  },
  {
   "cell_type": "code",
   "execution_count": 3,
   "id": "911bd02f-429b-49ff-a02d-43dc748bfd4d",
   "metadata": {},
   "outputs": [
    {
     "name": "stdout",
     "output_type": "stream",
     "text": [
      "22\n"
     ]
    }
   ],
   "source": [
    "# Find the minimum number (k)\n",
    "\n",
    "k = 0\n",
    "value = 0\n",
    "n = int(1e10)\n",
    "\n",
    "for k in range(1, n+1):\n",
    "    temp = 1\n",
    "    for i in range(k + 1):\n",
    "        temp *= (365 - i) / 365\n",
    "    \n",
    "    value = 1 - temp\n",
    "    \n",
    "    if value >= 0.5:\n",
    "        break\n",
    "        \n",
    "print(k)"
   ]
  },
  {
   "cell_type": "markdown",
   "id": "5f871453-82ab-4fec-9deb-7780c1fbc287",
   "metadata": {},
   "source": [
    "### Problem 03"
   ]
  },
  {
   "cell_type": "code",
   "execution_count": 4,
   "id": "077ab838-469c-42a8-ae85-25f4eea7f835",
   "metadata": {},
   "outputs": [
    {
     "name": "stdout",
     "output_type": "stream",
     "text": [
      "3.1415876535897618\n"
     ]
    }
   ],
   "source": [
    "# Value of Pi (π) in Decimal\n",
    "\n",
    "value = 0\n",
    "init = 1\n",
    "end = 399999\n",
    "n = int(((end-init)/2) + 1)\n",
    "\n",
    "summation = 0\n",
    "\n",
    "for i in range(n):\n",
    "    k = (2*i) + 1\n",
    "    summation += (1/k) * ((-1)**(i))\n",
    "\n",
    "summation = 4*summation\n",
    "print(summation)"
   ]
  },
  {
   "cell_type": "markdown",
   "id": "b6abd8c2-1381-4709-9b6e-a43745bc5f18",
   "metadata": {},
   "source": [
    "### Problem 04"
   ]
  },
  {
   "cell_type": "code",
   "execution_count": 5,
   "id": "32d02558-9efd-41c8-a33a-581a1b4574fe",
   "metadata": {},
   "outputs": [
    {
     "name": "stdin",
     "output_type": "stream",
     "text": [
      " 1\n",
      " 5\n"
     ]
    },
    {
     "name": "stdout",
     "output_type": "stream",
     "text": [
      "-6\n"
     ]
    }
   ],
   "source": [
    "a = int(input())\n",
    "b = int(input())\n",
    "\n",
    "outer = 0\n",
    "for i in range(a, b):\n",
    "    inner = 0\n",
    "    for j in range(i+1, b+1):\n",
    "        inner += (i+j)\n",
    "    outer += inner * ((-1)**(i))\n",
    "\n",
    "print(outer)"
   ]
  },
  {
   "cell_type": "markdown",
   "id": "2a126879-9315-4b0b-a4e9-7cf3eee203b8",
   "metadata": {},
   "source": [
    "### Problem 05"
   ]
  },
  {
   "cell_type": "code",
   "execution_count": 6,
   "id": "0099c7c3-7c55-4952-9832-1bbcb2257817",
   "metadata": {},
   "outputs": [
    {
     "name": "stdin",
     "output_type": "stream",
     "text": [
      " 5\n",
      " 20\n"
     ]
    },
    {
     "name": "stdout",
     "output_type": "stream",
     "text": [
      "-144\n"
     ]
    }
   ],
   "source": [
    "a = int(input())\n",
    "b = int(input())\n",
    "\n",
    "outer = 0\n",
    "for i in range(a, b+1):\n",
    "    inner = 0\n",
    "    for j in range(a, b+1):\n",
    "        if i<j:\n",
    "            inner += (-1)**i * (i+j)\n",
    "    outer += inner\n",
    "\n",
    "print(outer)"
   ]
  },
  {
   "cell_type": "markdown",
   "id": "b29fb75f-ea7c-4ec4-9005-65ba523f7cb7",
   "metadata": {},
   "source": [
    "### Problem 06"
   ]
  },
  {
   "cell_type": "markdown",
   "id": "376b3adf-3bf6-4b93-83cb-be97f16a8ead",
   "metadata": {},
   "source": [
    "![Sine](data:image/png;base64,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)"
   ]
  },
  {
   "cell_type": "code",
   "execution_count": 7,
   "id": "1c5128b0-016c-41d8-b6c1-9529b645bb51",
   "metadata": {},
   "outputs": [
    {
     "name": "stdin",
     "output_type": "stream",
     "text": [
      "Enter deg:  999\n"
     ]
    },
    {
     "name": "stdout",
     "output_type": "stream",
     "text": [
      "-0.9876883405951359\n"
     ]
    }
   ],
   "source": [
    "# Approximation of sine\n",
    "\n",
    "d = float(input('Enter deg: '))\n",
    "num = floor(d/360)\n",
    "deg = d\n",
    "if num>=1:\n",
    "    deg = abs(360*num - d)\n",
    "    \n",
    "rad = radians(deg)\n",
    "\n",
    "maximum = 50\n",
    "approx = 0\n",
    "\n",
    "for i in range(maximum+1):\n",
    "    fac = 1\n",
    "    n = (2*i) + 1\n",
    "    for j in range(1, n+1):\n",
    "        fac *= j\n",
    "    power = rad**(2*i + 1)\n",
    "    approx += ((-1)**i) * power/fac\n",
    "\n",
    "print(approx)"
   ]
  },
  {
   "cell_type": "markdown",
   "id": "8944c9cb-b488-4ca1-8979-d9d26fa2343b",
   "metadata": {},
   "source": [
    "### Problem 07"
   ]
  },
  {
   "cell_type": "code",
   "execution_count": 8,
   "id": "cd092113-b8df-49d4-b687-747bc9363544",
   "metadata": {},
   "outputs": [
    {
     "name": "stdin",
     "output_type": "stream",
     "text": [
      " 25\n"
     ]
    },
    {
     "name": "stdout",
     "output_type": "stream",
     "text": [
      "143\n"
     ]
    }
   ],
   "source": [
    "# Multiples of 3 or 5\n",
    "\n",
    "n = int(input())\n",
    "\n",
    "s = 0\n",
    "for i in range(n):\n",
    "    if (i%3==0) or (i%5==0):\n",
    "        s+=i\n",
    "\n",
    "print(s)"
   ]
  },
  {
   "cell_type": "code",
   "execution_count": null,
   "id": "717e942b-a720-4c65-935e-d8d5053cb9fc",
   "metadata": {},
   "outputs": [],
   "source": []
  }
 ],
 "metadata": {
  "kernelspec": {
   "display_name": "Python 3 (ipykernel)",
   "language": "python",
   "name": "python3"
  },
  "language_info": {
   "codemirror_mode": {
    "name": "ipython",
    "version": 3
   },
   "file_extension": ".py",
   "mimetype": "text/x-python",
   "name": "python",
   "nbconvert_exporter": "python",
   "pygments_lexer": "ipython3",
   "version": "3.10.14"
  }
 },
 "nbformat": 4,
 "nbformat_minor": 5
}
