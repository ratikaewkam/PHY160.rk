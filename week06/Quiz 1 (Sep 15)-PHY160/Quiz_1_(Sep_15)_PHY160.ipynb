{
  "nbformat": 4,
  "nbformat_minor": 0,
  "metadata": {
    "colab": {
      "provenance": []
    },
    "kernelspec": {
      "name": "python3",
      "display_name": "Python 3"
    },
    "language_info": {
      "name": "python"
    }
  },
  "cells": [
    {
      "cell_type": "markdown",
      "source": [
        "### Rati Kaewkam"
      ],
      "metadata": {
        "id": "IRXfE59Lyp6j"
      }
    },
    {
      "cell_type": "code",
      "source": [
        "import math"
      ],
      "metadata": {
        "id": "FFhjBMISve-F"
      },
      "execution_count": 3,
      "outputs": []
    },
    {
      "cell_type": "markdown",
      "source": [
        "### Problem 1"
      ],
      "metadata": {
        "id": "LcdxGaWuutxv"
      }
    },
    {
      "cell_type": "code",
      "source": [
        "def wavelength(n_i, n_f):\n",
        "  rydberg_constant = 1.097e7\n",
        "  inverse_lambda = rydberg_constant * ((1/math.pow(n_f, 2)) - (1/math.pow(n_i, 2)))\n",
        "  real_lambda = 1/inverse_lambda\n",
        "  return real_lambda\n",
        "\n",
        "l = wavelength(3, 2)\n",
        "print(f'Wavelength: {l}')"
      ],
      "metadata": {
        "colab": {
          "base_uri": "https://localhost:8080/",
          "height": 0
        },
        "id": "FopG3bxnuwWW",
        "outputId": "adc2a212-4b18-4720-968c-dac0b6546af5"
      },
      "execution_count": 5,
      "outputs": [
        {
          "output_type": "stream",
          "name": "stdout",
          "text": [
            "Wavelength: 6.563354603463993e-07\n"
          ]
        }
      ]
    },
    {
      "cell_type": "markdown",
      "source": [
        "### Problem 2"
      ],
      "metadata": {
        "id": "gyImSJN8ux67"
      }
    },
    {
      "cell_type": "code",
      "source": [
        "# cp_prop means circle-point property\n",
        "def cp_prop(x, y):\n",
        "  d = math.sqrt((x**2) + (y**2))\n",
        "  # check q\n",
        "  if x==0 and y==0:\n",
        "    print('origin')\n",
        "  elif x==0 and y!=0:\n",
        "    print('y-axis')\n",
        "  elif x!=0 and y==0:\n",
        "    print('x-axis')\n",
        "  elif x>0 and y>0:\n",
        "    print('Q1')\n",
        "  elif x<0 and y>0:\n",
        "    print('Q2')\n",
        "  elif x<0 and y<0:\n",
        "    print('Q3')\n",
        "  else:\n",
        "    print('Q4')\n",
        "\n",
        "  if d<=1:\n",
        "    print('inside a circle')\n",
        "  else:\n",
        "    print('outside a circle')\n",
        "\n",
        "x = float(input('x: '))\n",
        "y = float(input('y: '))\n",
        "\n",
        "cp_prop(x, y)"
      ],
      "metadata": {
        "colab": {
          "base_uri": "https://localhost:8080/",
          "height": 0
        },
        "id": "r0LagCh6uzTl",
        "outputId": "d81ce03f-bc59-4615-8c13-6d6dc20d492e"
      },
      "execution_count": 16,
      "outputs": [
        {
          "output_type": "stream",
          "name": "stdout",
          "text": [
            "x: -1\n",
            "y: 0\n",
            "x-axis\n",
            "inside a circle\n"
          ]
        }
      ]
    }
  ]
}