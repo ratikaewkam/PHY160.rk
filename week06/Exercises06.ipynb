{
 "cells": [
  {
   "cell_type": "markdown",
   "id": "db0026fe-f216-4810-9502-057920eef8e8",
   "metadata": {},
   "source": [
    "### Problem 1"
   ]
  },
  {
   "cell_type": "code",
   "execution_count": 2,
   "id": "eca42b29-a73e-49e1-a55d-c9c4fccd86d0",
   "metadata": {},
   "outputs": [
    {
     "name": "stdin",
     "output_type": "stream",
     "text": [
      "n:  10\n"
     ]
    },
    {
     "name": "stdout",
     "output_type": "stream",
     "text": [
      "sum of 1 to 10 = 55\n"
     ]
    }
   ],
   "source": [
    "n = int(input('n: '))\n",
    "\n",
    "def sum_n(n):\n",
    "    result = (n*(n+1))/2\n",
    "    return result\n",
    "\n",
    "result = int(sum_n(n))\n",
    "print(f'sum of 1 to {n} = {result}')"
   ]
  },
  {
   "cell_type": "markdown",
   "id": "7edf3639-828f-4ac8-85bf-697a7ecd9709",
   "metadata": {},
   "source": [
    "### Problem 2"
   ]
  },
  {
   "cell_type": "code",
   "execution_count": 3,
   "id": "4ea582cd-43af-43c3-9c43-b153d3f3f6f2",
   "metadata": {},
   "outputs": [
    {
     "name": "stdin",
     "output_type": "stream",
     "text": [
      " 1\n",
      " 2\n",
      " 3\n",
      " 4\n",
      " 5\n"
     ]
    },
    {
     "name": "stdout",
     "output_type": "stream",
     "text": [
      "sum: 15.0\n",
      "average: 3.00\n"
     ]
    }
   ],
   "source": [
    "def sum_5():\n",
    "    total = 0\n",
    "    avg = 0\n",
    "    for i in range(5):\n",
    "        num = float(input())\n",
    "        total+= num\n",
    "    avg = total/5\n",
    "\n",
    "    return total, avg\n",
    "\n",
    "total, avg = sum_5()\n",
    "print(f'sum: {total}')\n",
    "print('average: %.2f' %avg)"
   ]
  },
  {
   "cell_type": "markdown",
   "id": "d590fa9a-8754-4b73-8620-0b2e1971e20a",
   "metadata": {},
   "source": [
    "### Problem 3"
   ]
  },
  {
   "cell_type": "code",
   "execution_count": 6,
   "id": "c1fd582d-3168-4201-abda-2f0c34dcb230",
   "metadata": {},
   "outputs": [
    {
     "name": "stdin",
     "output_type": "stream",
     "text": [
      "n:  5\n"
     ]
    },
    {
     "name": "stdout",
     "output_type": "stream",
     "text": [
      "5 x 1 = 5\n",
      "5 x 2 = 10\n",
      "5 x 3 = 15\n",
      "5 x 4 = 20\n",
      "5 x 5 = 25\n",
      "5 x 6 = 30\n",
      "5 x 7 = 35\n",
      "5 x 8 = 40\n",
      "5 x 9 = 45\n",
      "5 x 10 = 50\n",
      "5 x 11 = 55\n",
      "5 x 12 = 60\n"
     ]
    }
   ],
   "source": [
    "n = int(input('n: '))\n",
    "\n",
    "def multi_table(n):\n",
    "    for i in range(1, 13):\n",
    "        print(f'{n} x {i} = {n*i}')\n",
    "\n",
    "multi_table(n)"
   ]
  },
  {
   "cell_type": "markdown",
   "id": "6343ccbc-e785-4be1-90c1-ffba05a399b7",
   "metadata": {},
   "source": [
    "### Problem 4"
   ]
  },
  {
   "cell_type": "code",
   "execution_count": 11,
   "id": "21c9a930-bb0d-4629-a862-33274173ef69",
   "metadata": {},
   "outputs": [
    {
     "name": "stdin",
     "output_type": "stream",
     "text": [
      "Enter year:  2008\n"
     ]
    },
    {
     "name": "stdout",
     "output_type": "stream",
     "text": [
      "Leap year\n"
     ]
    }
   ],
   "source": [
    "year = int(input('Enter year: '))\n",
    "\n",
    "def check_year(year):\n",
    "    if ((year%4==0) and (year%100!=0) or (year%400==0)):\n",
    "        print('Leap year')\n",
    "    else:\n",
    "        print('Not leap year')\n",
    "\n",
    "check_year(year)"
   ]
  },
  {
   "cell_type": "code",
   "execution_count": null,
   "id": "93e147bc-8a50-405f-87bb-a21aecc70674",
   "metadata": {},
   "outputs": [],
   "source": []
  }
 ],
 "metadata": {
  "kernelspec": {
   "display_name": "Python 3 (ipykernel)",
   "language": "python",
   "name": "python3"
  },
  "language_info": {
   "codemirror_mode": {
    "name": "ipython",
    "version": 3
   },
   "file_extension": ".py",
   "mimetype": "text/x-python",
   "name": "python",
   "nbconvert_exporter": "python",
   "pygments_lexer": "ipython3",
   "version": "3.10.14"
  }
 },
 "nbformat": 4,
 "nbformat_minor": 5
}
