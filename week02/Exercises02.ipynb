{
 "cells": [
  {
   "cell_type": "code",
   "execution_count": 18,
   "id": "25e22e32-5bb0-4d10-aa5d-a53598bc66f6",
   "metadata": {},
   "outputs": [],
   "source": [
    "import matplotlib.pyplot as plt\n",
    "from math import * 0"
   ]
  },
  {
   "cell_type": "markdown",
   "id": "ff9674dd-8016-459e-885e-e595c8dadc34",
   "metadata": {},
   "source": [
    "### Problem 01"
   ]
  },
  {
   "cell_type": "code",
   "execution_count": 10,
   "id": "fc272d19-09f7-4f9c-852f-ece1a3a61c65",
   "metadata": {},
   "outputs": [
    {
     "name": "stdin",
     "output_type": "stream",
     "text": [
      " 2 3 1\n"
     ]
    },
    {
     "name": "stdout",
     "output_type": "stream",
     "text": [
      "2.0\n"
     ]
    }
   ],
   "source": [
    "# Median problem\n",
    "# The easy way to solve it using sorting algorithm\n",
    "# We pair them -> compare and swap\n",
    "\n",
    "a, b, c = input().split()\n",
    "\n",
    "a = int(a)\n",
    "b = int(b)\n",
    "c = int(c)\n",
    "\n",
    "temp = 0\n",
    "if a>b: # a <-> b\n",
    "    temp = a\n",
    "    a = b\n",
    "    b = temp\n",
    "if a>c: # a <-> c\n",
    "    temp = a\n",
    "    a = c\n",
    "    c = temp\n",
    "if b>c: # b <-> c\n",
    "    temp = b\n",
    "    b = c\n",
    "    c = temp\n",
    "\n",
    "#print(a, b, c)\n",
    "print(b)"
   ]
  },
  {
   "cell_type": "markdown",
   "id": "2f6119ae-68d3-4551-9046-2a4c9172059a",
   "metadata": {},
   "source": [
    "### Problem 02"
   ]
  },
  {
   "cell_type": "code",
   "execution_count": 56,
   "id": "939f9568-09dc-4df0-88f3-97cff6db5d3c",
   "metadata": {},
   "outputs": [
    {
     "name": "stdin",
     "output_type": "stream",
     "text": [
      " -2 0 3\n",
      " 0 0 5\n"
     ]
    },
    {
     "name": "stdout",
     "output_type": "stream",
     "text": [
      "touch\n"
     ]
    }
   ],
   "source": [
    "# We want to know how circle behave from thier formulas\n",
    "# Free if distance between thier centers > sum of thier radii\n",
    "\n",
    "x1, y1, r1 = input().split()\n",
    "x2, y2, r2 = input().split()\n",
    "\n",
    "x1 = float(x1)\n",
    "y1 = float(y1)\n",
    "r1 = float(r1)\n",
    "\n",
    "x2 = float(x2)\n",
    "y2 = float(y2)\n",
    "r2 = float(r2)\n",
    "\n",
    "d = ((x2-x1)**2 + (y2-y1)**2)**(1/2)\n",
    "rsum = r1 + r2\n",
    "abs_delta_r = abs(r2-r1)\n",
    "min_lim = (d/2) - 15\n",
    "max_lim = (d/2) + 15\n",
    "\n",
    "if d > rsum:\n",
    "    print('free')\n",
    "elif abs_delta_r < d and d < rsum:\n",
    "    print('overlap')\n",
    "elif d == rsum or d == abs_delta_r:\n",
    "    print('touch')\n",
    "else:\n",
    "    pass"
   ]
  },
  {
   "cell_type": "code",
   "execution_count": 57,
   "id": "e3cc73ab-3295-47aa-8e8f-6859aaa386cd",
   "metadata": {},
   "outputs": [
    {
     "data": {
      "image/png": "[encoded data removed]",
      "text/plain": [
       "<Figure size 640x480 with 1 Axes>"
      ]
     },
     "metadata": {},
     "output_type": "display_data"
    }
   ],
   "source": [
    "c1 = plt.Circle((x1, y1), r1, color='b', fill=False)\n",
    "c2 = plt.Circle((x2, y2), r2, color='r', fill=False)\n",
    "\n",
    "fig, ax = plt.subplots()\n",
    "ax = plt.gca()\n",
    "ax.cla() # clear things for fresh plot\n",
    "\n",
    "# change default range so that new circles will work\n",
    "ax.set_xlim((min_lim, max_lim))\n",
    "ax.set_ylim((min_lim, max_lim))\n",
    "    \n",
    "ax.add_patch(c1)\n",
    "ax.add_patch(c2)\n",
    "fig.savefig('plotcircles.png')"
   ]
  },
  {
   "cell_type": "markdown",
   "id": "b151583a-6525-478c-b4a6-63027167fa06",
   "metadata": {},
   "source": [
    "### Problem 03"
   ]
  },
  {
   "cell_type": "code",
   "execution_count": 3,
   "id": "113453e9-854f-4699-950c-a231bb69cc76",
   "metadata": {},
   "outputs": [
    {
     "name": "stdin",
     "output_type": "stream",
     "text": [
      " 5 0\n"
     ]
    },
    {
     "name": "stdout",
     "output_type": "stream",
     "text": [
      "X axis\n"
     ]
    }
   ],
   "source": [
    "# Identify the Quadrant of a Point on the Coordinate Plane\n",
    "\n",
    "x, y = input().split()\n",
    "\n",
    "x = float(x)\n",
    "y = float(y)\n",
    "\n",
    "if x==0 and y==0:\n",
    "    print('Origin')\n",
    "elif x>0 and y>0:\n",
    "    print('Q1')\n",
    "elif x<0 and y>0:\n",
    "    print('Q2')\n",
    "elif x<0 and y<0:\n",
    "    print('Q3')\n",
    "elif x>0 and y<0:\n",
    "    print('Q4')\n",
    "elif x!=0 and y==0:\n",
    "    print('X axis')\n",
    "else:\n",
    "    print('Y axis')"
   ]
  },
  {
   "cell_type": "markdown",
   "id": "ecea2c53-2f98-444f-9ef8-075fdf74b9a2",
   "metadata": {},
   "source": [
    "### Problem 04"
   ]
  },
  {
   "cell_type": "code",
   "execution_count": 23,
   "id": "012d9661-d030-4dd3-b394-f88156ada8f2",
   "metadata": {},
   "outputs": [
    {
     "name": "stdin",
     "output_type": "stream",
     "text": [
      "  2 1 0 5 3\n"
     ]
    },
    {
     "name": "stdout",
     "output_type": "stream",
     "text": [
      "False\n"
     ]
    }
   ],
   "source": [
    "# Check the order of values\n",
    "# a < b < c < d < e\n",
    "\n",
    "a, b, c, d, e = input().split()\n",
    "\n",
    "a = int(a)\n",
    "b = int(b)\n",
    "c = int(c)\n",
    "d = int(d)\n",
    "e = int(e)\n",
    "\n",
    "if a<b:\n",
    "    if b<c:\n",
    "        if c<d:\n",
    "            if d<e:\n",
    "                print(True)\n",
    "            else:\n",
    "                print(False)\n",
    "        else:\n",
    "            print(False)\n",
    "    else:\n",
    "        print(False)\n",
    "else:\n",
    "    print(False)\n",
    "    \n",
    "            "
   ]
  },
  {
   "cell_type": "markdown",
   "id": "07e79eb4-1987-4798-8318-79afa46c0af7",
   "metadata": {},
   "source": [
    "### Problem 05"
   ]
  },
  {
   "cell_type": "code",
   "execution_count": 19,
   "id": "619982f3-b421-4e55-a84e-6302a05a98e0",
   "metadata": {},
   "outputs": [
    {
     "name": "stdin",
     "output_type": "stream",
     "text": [
      " 1 3 4 2\n"
     ]
    },
    {
     "name": "stdout",
     "output_type": "stream",
     "text": [
      "5\n"
     ]
    }
   ],
   "source": [
    "# Sum all values (max and min)\n",
    "\n",
    "a, b, c, d = input().split()\n",
    "\n",
    "a = int(a)\n",
    "b = int(b)\n",
    "c = int(c)\n",
    "d = int(d)\n",
    "\n",
    "temp = 0\n",
    "if a>b: # a <-> b\n",
    "    temp = a\n",
    "    a = b\n",
    "    b = temp\n",
    "if c>d: # c <-> d\n",
    "    temp = c\n",
    "    c = d\n",
    "    d = temp\n",
    "if a>c: # a <-> c\n",
    "    temp = a\n",
    "    a = c\n",
    "    c = temp\n",
    "\n",
    "if b>d: # b <-> d\n",
    "    temp = b\n",
    "    b = d\n",
    "    d = temp\n",
    "\n",
    "if b>c: # b <-> c\n",
    "    temp = b\n",
    "    b = c\n",
    "    c = temp\n",
    "\n",
    "#print(a, b, c, d)\n",
    "\n",
    "print(b+c)"
   ]
  },
  {
   "cell_type": "markdown",
   "id": "7784818f-a3e3-447b-8995-342f8d01a3ef",
   "metadata": {},
   "source": [
    "### Problem 06"
   ]
  },
  {
   "cell_type": "code",
   "execution_count": 32,
   "id": "051f21ef-cc62-49ec-acf4-1f10b7ec1f06",
   "metadata": {},
   "outputs": [
    {
     "name": "stdin",
     "output_type": "stream",
     "text": [
      " 27\n"
     ]
    },
    {
     "name": "stdout",
     "output_type": "stream",
     "text": [
      "True\n",
      "3\n"
     ]
    }
   ],
   "source": [
    "import math\n",
    "# Check if x^3 = a and x is an integer\n",
    "\n",
    "a = int(input())\n",
    "c = pow(a, (1/3))\n",
    "r = round(c)\n",
    "\n",
    "delta_abs = abs(r-c)\n",
    "ck = max(abs(r), abs(c))*1e-10\n",
    "\n",
    "if delta_abs <= ck:\n",
    "    print(r)\n",
    "else:\n",
    "    print('Not Found')"
   ]
  },
  {
   "cell_type": "markdown",
   "id": "cf9c4a7c-df86-4831-b017-05c4b834bcb9",
   "metadata": {},
   "source": [
    "### Problem 07"
   ]
  },
  {
   "cell_type": "code",
   "execution_count": 24,
   "id": "9b9183ea-b90b-478b-b1fe-2b7ef1e952ac",
   "metadata": {},
   "outputs": [
    {
     "name": "stdin",
     "output_type": "stream",
     "text": [
      " 46\n"
     ]
    },
    {
     "name": "stdout",
     "output_type": "stream",
     "text": [
      "XL\n"
     ]
    }
   ],
   "source": [
    "# Polo size\n",
    "\n",
    "inch = int(input())\n",
    "\n",
    "if inch <37:\n",
    "    print('XS')\n",
    "elif inch>=37 and inch<41:\n",
    "    print('S')\n",
    "elif inch>=41 and inch<43:\n",
    "    print('M')\n",
    "elif inch>=43 and inch<46:\n",
    "    print('L')\n",
    "elif inch>=46:\n",
    "    print('XL')\n",
    "else:\n",
    "    pass # Error"
   ]
  },
  {
   "cell_type": "markdown",
   "id": "343193c8-c058-4cec-bbff-c8e15577318a",
   "metadata": {},
   "source": [
    "### Problem 08"
   ]
  },
  {
   "cell_type": "code",
   "execution_count": 25,
   "id": "3a1b9b76-6b8f-4385-a9ea-922542c83636",
   "metadata": {},
   "outputs": [
    {
     "name": "stdin",
     "output_type": "stream",
     "text": [
      " 2 2567\n"
     ]
    },
    {
     "name": "stdout",
     "output_type": "stream",
     "text": [
      "29\n"
     ]
    }
   ],
   "source": [
    "# Days in Month\n",
    "\n",
    "month, year = input().split()\n",
    "month = int(month)\n",
    "year = int(year)\n",
    "cy = year - 543\n",
    "\n",
    "feb_day = 0\n",
    "if ((cy%4==0) and (cy%100!=0) or (cy%400==0)):\n",
    "    feb_day = 29\n",
    "else:\n",
    "    feb_day = 28\n",
    "\n",
    "m_day = 0\n",
    "\n",
    "if month==2: # 2\n",
    "    print(feb_day)\n",
    "elif (month>=1 and month<=12) and (month<=7 and (month%2 == 0)): # 4 6\n",
    "    print(30)\n",
    "elif (month>=1 and month<=12) and (month<=7 and (month%2 != 0)): # 1 3 5 7\n",
    "    print(31)\n",
    "elif (month>=1 and month<=12) and (month>7 and (month%2 == 0)): # 10 12\n",
    "    print(31)\n",
    "elif (month>=1 and month<=12) and (month<7 and (month%2 != 0)): # 9 11\n",
    "    print(30)\n",
    "else:\n",
    "    pass # Error\n"
   ]
  },
  {
   "cell_type": "markdown",
   "id": "6944820c-d942-4f8b-8d41-a3e461184538",
   "metadata": {},
   "source": [
    "### Problem 09"
   ]
  },
  {
   "cell_type": "code",
   "execution_count": 72,
   "id": "bc907cbc-9f96-4c45-ac02-cd10f81a1de8",
   "metadata": {},
   "outputs": [
    {
     "name": "stdin",
     "output_type": "stream",
     "text": [
      " 120\n"
     ]
    },
    {
     "name": "stdout",
     "output_type": "stream",
     "text": [
      "ERROR\n"
     ]
    }
   ],
   "source": [
    "# Grader program\n",
    "\n",
    "score = float(input())\n",
    "\n",
    "isvalid = score>=0 and score<=100\n",
    "\n",
    "if isvalid and (score>=80 and score<=100):\n",
    "    print('A')\n",
    "elif isvalid and (score>=75 and score<80):\n",
    "    print('B+')\n",
    "elif isvalid and (score>=70 and score<75):\n",
    "    print('B')\n",
    "elif isvalid and (score>=65 and score<70):\n",
    "    print('C+')\n",
    "elif isvalid and (score>=60 and score<65):\n",
    "    print('C')\n",
    "elif isvalid and (score>=55 and score<60):\n",
    "    print('D+')\n",
    "elif isvalid and (score>=50 and score<55):\n",
    "    print('D')\n",
    "elif isvalid and (score>=0 and score<50):\n",
    "    print('F')\n",
    "else:\n",
    "    print('ERROR')"
   ]
  },
  {
   "cell_type": "markdown",
   "id": "0b6f1876-ca1c-417d-b0a4-8411f0cbce90",
   "metadata": {},
   "source": [
    "### Problem 10"
   ]
  },
  {
   "cell_type": "code",
   "execution_count": 98,
   "id": "462a6a5c-fd30-4022-8739-6b85a4acfd7a",
   "metadata": {},
   "outputs": [
    {
     "name": "stdin",
     "output_type": "stream",
     "text": [
      " 7\n",
      " 0\n",
      " 12\n",
      " 30\n"
     ]
    },
    {
     "name": "stdout",
     "output_type": "stream",
     "text": [
      "120\n"
     ]
    }
   ],
   "source": [
    "# Parking program\n",
    "\n",
    "sh = int(input())\n",
    "sm = int(input())\n",
    "eh = int(input())\n",
    "em = int(input())\n",
    "\n",
    "ssec = (sh*3600) + (sm*60)\n",
    "esec = (eh*3600) + (em*60)\n",
    "dt = esec-ssec\n",
    "\n",
    "n = 0\n",
    "paid = 0\n",
    "if dt<=900:\n",
    "    paid = 0\n",
    "elif dt>900 and dt<=14340:\n",
    "    n = ceil(dt/3600)\n",
    "    paid = paid + n*10\n",
    "elif dt>=14400 and dt<=21600:\n",
    "    dt = dt - n*3600\n",
    "    n = ceil(dt/3600)\n",
    "    paid = paid + n*20\n",
    "elif dt>21600:\n",
    "    paid = 200\n",
    "else:\n",
    "    pass\n",
    "    \n",
    "print(paid)"
   ]
  },
  {
   "cell_type": "code",
   "execution_count": null,
   "id": "a52635ef-02f1-4627-bf29-09311b26851f",
   "metadata": {},
   "outputs": [],
   "source": []
  }
 ],
 "metadata": {
  "kernelspec": {
   "display_name": "Python 3 (ipykernel)",
   "language": "python",
   "name": "python3"
  },
  "language_info": {
   "codemirror_mode": {
    "name": "ipython",
    "version": 3
   },
   "file_extension": ".py",
   "mimetype": "text/x-python",
   "name": "python",
   "nbconvert_exporter": "python",
   "pygments_lexer": "ipython3",
   "version": "3.10.14"
  }
 },
 "nbformat": 4,
 "nbformat_minor": 5
}
